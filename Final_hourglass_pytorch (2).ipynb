{
  "nbformat": 4,
  "nbformat_minor": 0,
  "metadata": {
    "colab": {
      "name": "Final_hourglass_pytorch.ipynb",
      "provenance": [],
      "collapsed_sections": [],
      "toc_visible": true
    },
    "kernelspec": {
      "name": "python3",
      "display_name": "Python 3"
    },
    "language_info": {
      "name": "python"
    },
    "accelerator": "GPU"
  },
  "cells": [
    {
      "cell_type": "code",
      "execution_count": null,
      "metadata": {
        "id": "x-Xpf4E3fIDF",
        "colab": {
          "base_uri": "https://localhost:8080/"
        },
        "outputId": "648c177d-774d-482e-9943-1f24b49b3394"
      },
      "outputs": [
        {
          "output_type": "stream",
          "name": "stdout",
          "text": [
            "Drive already mounted at /content/drive; to attempt to forcibly remount, call drive.mount(\"/content/drive\", force_remount=True).\n"
          ]
        }
      ],
      "source": [
        "from google.colab import drive\n",
        "drive.mount('/content/drive')"
      ]
    },
    {
      "cell_type": "code",
      "source": [
        "import numpy as np\n",
        "import scipy.fftpack\n",
        "from scipy.linalg import toeplitz\n",
        "from scipy.signal import fftconvolve\n",
        "import itertools\n",
        "import warnings\n",
        "import os\n",
        "import glob\n",
        "import torch\n",
        "import torch.nn as nn\n",
        "import tqdm\n",
        "import librosa\n",
        "import time\n",
        "import random\n",
        "import soundfile"
      ],
      "metadata": {
        "id": "Nr3BtpZny4UR"
      },
      "execution_count": null,
      "outputs": []
    },
    {
      "cell_type": "code",
      "source": [
        "## FUNCTIONS FOR EVALUATION OF MODEL, TO CALCULATE SDR, SIR AND SAR, TAKEN  FROM THE BSS EVAL TOOLBOX, AS MENTIONED IN OUR PAPER\n",
        "def bss_eval_sources(reference_sources, estimated_sources):\n",
        "    if estimated_sources.ndim == 1:\n",
        "        estimated_sources = estimated_sources[np.newaxis, :]\n",
        "    if reference_sources.ndim == 1:\n",
        "        reference_sources = reference_sources[np.newaxis, :]\n",
        "    if reference_sources.size == 0 or estimated_sources.size == 0:\n",
        "        return np.array([]), np.array([]), np.array([]), np.array([])\n",
        "    nsrc = estimated_sources.shape[0]\n",
        "    sdr = np.empty((nsrc, nsrc))\n",
        "    sir = np.empty((nsrc, nsrc))\n",
        "    sar = np.empty((nsrc, nsrc))\n",
        "    for jest in range(nsrc):\n",
        "        for jtrue in range(nsrc):\n",
        "            s_true, e_spat, e_interf, e_artif = \\\n",
        "                    _bss_decomp_mtifilt(reference_sources,\n",
        "                                        estimated_sources[jest],\n",
        "                                        jtrue, 512)\n",
        "            sdr[jest, jtrue], sir[jest, jtrue], sar[jest, jtrue] = \\\n",
        "                    _bss_source_crit(s_true, e_spat, e_interf, e_artif)\n",
        "    perms = list(itertools.permutations(list(range(nsrc))))\n",
        "    mean_sir = np.empty(len(perms))\n",
        "    dum = np.arange(nsrc)\n",
        "    for (i, perm) in enumerate(perms):\n",
        "        mean_sir[i] = np.mean(sir[perm, dum])\n",
        "    popt = perms[np.argmax(mean_sir)]\n",
        "    idx = (popt, dum)\n",
        "    return (sdr[idx], sir[idx], sar[idx], np.asarray(popt))\n",
        "\n",
        "def _bss_decomp_mtifilt(reference_sources, estimated_source, j, flen):\n",
        "    nsampl = estimated_source.size\n",
        "    s_true = np.hstack((reference_sources[j], np.zeros(flen - 1)))\n",
        "    e_spat = _project(reference_sources[j, np.newaxis, :], estimated_source,\n",
        "                      flen) - s_true\n",
        "    e_interf = _project(reference_sources,\n",
        "                        estimated_source, flen) - s_true - e_spat\n",
        "    e_artif = -s_true - e_spat - e_interf\n",
        "    e_artif[:nsampl] += estimated_source\n",
        "    return (s_true, e_spat, e_interf, e_artif)\n",
        "\n",
        "\n",
        "def _bss_source_crit(s_true, e_spat, e_interf, e_artif):\n",
        "    s_filt = s_true + e_spat\n",
        "    sdr = _safe_db(np.sum(s_filt**2), np.sum((e_interf + e_artif)**2))\n",
        "    sir = _safe_db(np.sum(s_filt**2), np.sum(e_interf**2))\n",
        "    sar = _safe_db(np.sum((s_filt + e_interf)**2), np.sum(e_artif**2))\n",
        "    return (sdr, sir, sar)\n",
        "\n",
        "\n",
        "def _safe_db(num, den):\n",
        "    if den == 0:\n",
        "        return np.Inf\n",
        "    return 10 * np.log10(num / den)\n",
        "\n",
        "\n",
        "def _project(reference_sources, estimated_source, flen):\n",
        "    nsrc = reference_sources.shape[0]\n",
        "    nsampl = reference_sources.shape[1]\n",
        "    reference_sources = np.hstack((reference_sources,\n",
        "                                   np.zeros((nsrc, flen - 1))))\n",
        "    estimated_source = np.hstack((estimated_source, np.zeros(flen - 1)))\n",
        "    n_fft = int(2**np.ceil(np.log2(nsampl + flen - 1.)))\n",
        "    sf = scipy.fftpack.fft(reference_sources, n=n_fft, axis=1)\n",
        "    sef = scipy.fftpack.fft(estimated_source, n=n_fft)\n",
        "    G = np.zeros((nsrc * flen, nsrc * flen))\n",
        "    for i in range(nsrc):\n",
        "        for j in range(nsrc):\n",
        "            ssf = sf[i] * np.conj(sf[j])\n",
        "            ssf = np.real(scipy.fftpack.ifft(ssf))\n",
        "            ss = toeplitz(np.hstack((ssf[0], ssf[-1:-flen:-1])),\n",
        "                          r=ssf[:flen])\n",
        "            G[i * flen: (i+1) * flen, j * flen: (j+1) * flen] = ss\n",
        "            G[j * flen: (j+1) * flen, i * flen: (i+1) * flen] = ss.T\n",
        "    D = np.zeros(nsrc * flen)\n",
        "    for i in range(nsrc):\n",
        "        ssef = sf[i] * np.conj(sef)\n",
        "        ssef = np.real(scipy.fftpack.ifft(ssef))\n",
        "        D[i * flen: (i+1) * flen] = np.hstack((ssef[0], ssef[-1:-flen:-1]))\n",
        "    try:\n",
        "        C = np.linalg.solve(G, D).reshape(flen, nsrc, order='F')\n",
        "    except np.linalg.linalg.LinAlgError:\n",
        "        C = np.linalg.lstsq(G, D)[0].reshape(flen, nsrc, order='F')\n",
        "    sproj = np.zeros(nsampl + flen - 1)\n",
        "    for i in range(nsrc):\n",
        "        sproj += fftconvolve(C[:, i], reference_sources[i])[:nsampl + flen - 1]\n",
        "    return sproj\n",
        "\n",
        "\n",
        "def bss_eval(mixed_wav, src1_wav, src2_wav, pred_src1_wav, pred_src2_wav):\n",
        "    len = pred_src1_wav.shape[0]\n",
        "    src1_wav = src1_wav[:len]\n",
        "    src2_wav = src2_wav[:len]\n",
        "    mixed_wav = mixed_wav[:len]\n",
        "    bss_eval_sources\n",
        "    sdr, sir, sar, _ = bss_eval_sources(np.array([src1_wav, src2_wav]),\n",
        "                                 np.array([pred_src1_wav, pred_src2_wav]))\n",
        "    sdr_mixed, _, _, _ = bss_eval_sources(np.array([src1_wav, src2_wav]),\n",
        "                                   np.array([mixed_wav, mixed_wav]))\n",
        "    nsdr = sdr - sdr_mixed\n",
        "    return nsdr, sir, sar, len"
      ],
      "metadata": {
        "id": "lYy63BVjO08y"
      },
      "execution_count": null,
      "outputs": []
    },
    {
      "cell_type": "code",
      "source": [
        "## RANDOMISING TRAINING DATA AND ENSURING THAT BOTH MALE AND FEMALE AUDIO SAMPLES GO INTO TRAINING\n",
        "\n",
        "male = [\"abjones\",\"bobon\",\"bug\",\"davidson\",\"fdps\",\"geniusturtle\",\"jmzen\",\"Kenshin\",\"khair\",\"leon\",\"stool\"] #LIST OF ALL MALE VOICES\n",
        "male=np.array(male)\n",
        "female =[\"amy\", \"Ani\", \"annar\",\"ariel\",\"heycat\",\"tammy\",\"titon\",\"yifen\"] #LIST OF ALL FEMALE VOICES\n",
        "female=np.array(female)\n",
        "Nsample=len(male)\n",
        "Ntest=0.2 * Nsample\n",
        "Ntrain=int(0.8*Nsample)\n",
        "index=np.arange(Nsample)\n",
        "index_random=np.random.permutation(index)\n",
        "train_index=index_random[:Ntrain]\n",
        "test_index=index_random[Ntrain:]\n",
        "male_train=[]\n",
        "male_test=[]\n",
        "for i in range(Ntrain):\n",
        "  male_train.append(male[train_index[i]])\n",
        "  \n",
        "for i in range(Nsample-Ntrain):\n",
        "  male_test.append(male[test_index[i]])\n",
        "\n",
        "Nsample=len(female)\n",
        "Ntest=0.2 * Nsample\n",
        "Ntrain=int(0.8*Nsample)\n",
        "index=np.arange(Nsample)\n",
        "index_random=np.random.permutation(index)\n",
        "train_index=index_random[:Ntrain]\n",
        "test_index=index_random[Ntrain:]\n",
        "female_train=[]\n",
        "female_test=[]\n",
        "for i in range(Ntrain):\n",
        "  female_train.append(female[train_index[i]])\n",
        "for i in range(Nsample-Ntrain):\n",
        "  female_test.append(female[test_index[i]])\n",
        "\n",
        "print(male_train)\n",
        "print(male_test)\n",
        "print(female_train)\n",
        "print(female_test)\n",
        "test_data = male_test+female_test\n",
        "random.shuffle(test_data)\n",
        "print(test_data)\n",
        "train_d = male_train+female_train\n",
        "random.shuffle(train_d)\n",
        "print(train_d)"
      ],
      "metadata": {
        "colab": {
          "base_uri": "https://localhost:8080/"
        },
        "id": "MrVqeB7xtxc4",
        "outputId": "603a7d6c-bfb0-4ad0-ddfc-4452b0576085"
      },
      "execution_count": null,
      "outputs": [
        {
          "output_type": "stream",
          "name": "stdout",
          "text": [
            "['Kenshin', 'bobon', 'davidson', 'jmzen', 'fdps', 'abjones', 'leon', 'bug']\n",
            "['khair', 'geniusturtle', 'stool']\n",
            "['Ani', 'tammy', 'titon', 'ariel', 'heycat', 'annar']\n",
            "['amy', 'yifen']\n",
            "['stool', 'amy', 'khair', 'yifen', 'geniusturtle']\n",
            "['bug', 'leon', 'Kenshin', 'davidson', 'fdps', 'heycat', 'Ani', 'abjones', 'jmzen', 'annar', 'ariel', 'titon', 'tammy', 'bobon']\n"
          ]
        }
      ]
    },
    {
      "cell_type": "code",
      "execution_count": null,
      "metadata": {
        "id": "XZmoXh4ZJd-u"
      },
      "outputs": [],
      "source": [
        "#functions to generate data for training and testing, calculate short time fourier transform and inverse stft\n",
        "\n",
        "def data_generator(train_d,train):\n",
        "    for wav in glob.glob('/content/drive/MyDrive/wavfile/*'):\n",
        "        f = os.path.split(wav)[1]\n",
        "        if (f.startswith(train_d[0]) or f.startswith(train_d[1]) or f.startswith(train_d[2]) or f.startswith(train_d[2]) or f.startswith(train_d[3]) or f.startswith(train_d[4]) or f.startswith(train_d[5]) or f.startswith(train_d[6]) or f.startswith(train_d[7]) or f.startswith(train_d[8]) or f.startswith(train_d[9]) or f.startswith(train_d[10]) or f.startswith(train_d[11]) or f.startswith(train_d[12]) or f.startswith(train_d[13])) == train:\n",
        "            origin_source, sampling_rate = librosa.load(wav, sr=None, mono=False)  \n",
        "            \n",
        "            source_resampled = librosa.resample(origin_source, sampling_rate, 8000)\n",
        "            mixed_source_origin = librosa.to_mono(source_resampled)\n",
        "            resampled_left = source_resampled[0]\n",
        "            resampled_right = source_resampled[1]\n",
        "            mixed_magnitude_spectrum = np.abs(spectrum(mixed_source_origin))\n",
        "            right_magnitude_spectrum = np.abs(spectrum(np.asfortranarray(resampled_right)))\n",
        "            left_magnitude_spectrum = np.abs(spectrum(np.asfortranarray(resampled_left))) \n",
        "            max_value = np.max(mixed_magnitude_spectrum)\n",
        "            mixed_phase = np.angle(spectrum(mixed_source_origin)) # won't be used in training, preserving this for obtaining the predicted wavfile from the predicted feature masks\n",
        "            #Normalizing spectrograms\n",
        "            mixed_magnitude_spectrum = mixed_magnitude_spectrum / max_value\n",
        "            right_magnitude_spectrum = right_magnitude_spectrum / max_value\n",
        "            left_magnitude_spectrum = left_magnitude_spectrum / max_value\n",
        "            yield origin_source[0, :], origin_source[1, :], librosa.to_mono(origin_source), left_magnitude_spectrum, right_magnitude_spectrum, mixed_magnitude_spectrum, max_value, mixed_phase\n",
        "\n",
        "def spectrum(wav):\n",
        "    return librosa.stft(wav, n_fft = 1024, hop_length = 256)\n",
        "\n",
        "def to_wav(mag, phase):\n",
        "    mat = mag * np.exp(1.j * phase)\n",
        "    return np.array(librosa.istft(mat, hop_length = 256))"
      ]
    },
    {
      "cell_type": "code",
      "execution_count": null,
      "metadata": {
        "id": "FfsdET8qOYPu"
      },
      "outputs": [],
      "source": [
        "# defining our model \n",
        "\n",
        "class Conv(nn.Module):\n",
        "    def __init__(self, in_channels, out_channels, kernel_size=3, stride=1):\n",
        "        super(Conv, self).__init__()\n",
        "        self.model = nn.Sequential(\n",
        "                nn.Conv2d(in_channels=in_channels, out_channels=out_channels, kernel_size=kernel_size, stride=stride,\n",
        "                          padding=(kernel_size - 1) // 2),\n",
        "                nn.BatchNorm2d(num_features=out_channels),\n",
        "                nn.ReLU())\n",
        "    def forward(self, x):\n",
        "        return self.model(x) \n",
        "\n",
        "class Hourglass(nn.Module): #one hourglass module\n",
        "    def __init__(self, depth, output_channels, add_channels):\n",
        "        super(Hourglass, self).__init__()\n",
        "        next_channels = output_channels + add_channels\n",
        "        self.model = nn.Sequential(nn.MaxPool2d(kernel_size=2),\n",
        "                                   Conv(output_channels, next_channels),\n",
        "                                   Hourglass(depth - 1, next_channels,\n",
        "                                             add_channels) if depth else Conv(\n",
        "                                       next_channels, next_channels),\n",
        "                                   Conv(next_channels, output_channels),\n",
        "                                   nn.UpsamplingNearest2d(scale_factor=2)) \n",
        "        self.skip = Conv(output_channels, output_channels)\n",
        "    def forward(self, x):\n",
        "        return self.skip(x) + self.model(x)\n",
        "\n",
        "class StackedHourglassNet(nn.Module): #stacking the hourglasses to build the final structure\n",
        "    def __init__(self, num_stacks, channels, output_channels, add_channels):\n",
        "        super(StackedHourglassNet, self).__init__()\n",
        "        self.num_stacks = num_stacks\n",
        "        self.prepare = nn.Sequential(Conv(1, 64, kernel_size=7, stride=1),\n",
        "                                     Conv(64, 128), \n",
        "                                     Conv(128, 128),\n",
        "                                     Conv(128, channels))\n",
        "        self.hourglass = nn.ModuleList(\n",
        "            nn.Sequential(\n",
        "                Hourglass(depth=4, output_channels=channels, add_channels=add_channels),\n",
        "                Conv(channels, channels),\n",
        "                Conv(channels, channels, 1)) for i in range(num_stacks))\n",
        "        self.output = nn.ModuleList(Conv(channels, output_channels) for i in range(num_stacks))\n",
        "        self.next = nn.ModuleList(Conv(channels, channels) for i in range(num_stacks - 1))\n",
        "        self.merge = nn.ModuleList(Conv(output_channels, channels) for i in range(num_stacks - 1))\n",
        "    def forward(self, x):\n",
        "        x = self.prepare(x)\n",
        "        predicts = []\n",
        "        for i in range(self.num_stacks):\n",
        "            x = self.hourglass[i](x)\n",
        "            predicts.append(self.output[i](x))\n",
        "            if i != self.num_stacks - 1:\n",
        "                x = self.merge[i](predicts[-1]) + self.next[i](x)\n",
        "        return torch.stack(predicts, 0)\n",
        "\n",
        "def get_model(): # Function to create an object of class model\n",
        "    return StackedHourglassNet(num_stacks=NUM_STACKS, channels=FIRST_DEPTH_CHANNELS,\n",
        "                                     output_channels=OUTPUT_CHANNELS,\n",
        "                                     add_channels=NEXT_DEPTH_ADD_CHANNELS)\n",
        "\n",
        "def get_train_data():\n",
        "    cnt = 0\n",
        "    train_data = []\n",
        "    train_pos = []\n",
        "    for _, _, _, left_mag, right_mag, mixed_mag, _, _ in data_generator(train_d,train=True):\n",
        "        train_data.append((left_mag, right_mag, mixed_mag))\n",
        "        for i in range(mixed_mag.shape[-1]):\n",
        "            train_pos.append((cnt, i))\n",
        "        cnt += 1\n",
        "    return train_data, train_pos"
      ]
    },
    {
      "cell_type": "code",
      "source": [
        "#TOTAL NUMBER OF TRAINABLE PARAMETERS\n",
        "net = get_model()\n",
        "total_params_SH1 = sum(p.numel() for p in net.parameters() if p.requires_grad)\n",
        "print(total_params_SH1)"
      ],
      "metadata": {
        "colab": {
          "base_uri": "https://localhost:8080/"
        },
        "id": "E02oOQ-Z-HXY",
        "outputId": "38b3194a-1fc2-487c-f646-aa7e9e8b0afe"
      },
      "execution_count": null,
      "outputs": [
        {
          "output_type": "stream",
          "name": "stdout",
          "text": [
            "8868038\n"
          ]
        }
      ]
    },
    {
      "cell_type": "code",
      "source": [
        "ITERATIONS = 1500\n",
        "BATCH_SIZE = 4  \n",
        "NUM_STACKS = 1\n",
        "FIRST_DEPTH_CHANNELS = 64\n",
        "OUTPUT_CHANNELS = 2  \n",
        "NEXT_DEPTH_ADD_CHANNELS = 64  \n",
        "TRAIN_SAVE_POINT = 50  \n",
        "TEST_STEP = 20 \n",
        "TOTAL_TEST = 230\n",
        "device = torch.device(\"cuda:0\" if torch.cuda.is_available() else \"cpu\") \n",
        "\n",
        "\n",
        "\n",
        "def train():\n",
        "    net = get_model()\n",
        "    net.to(device)\n",
        "    training_data, training_indices_array = get_train_data()\n",
        "    loss_s = torch.empty(1).to(device)\n",
        "    optimiser = torch.optim.Adam(net.parameters(), lr=0.001)\n",
        "    for i in tqdm.tqdm(range(ITERATIONS)):\n",
        "        # declaring input and output tensors\n",
        "        input = torch.empty(BATCH_SIZE, 1, 512, 64)\n",
        "        output = torch.empty(BATCH_SIZE, 2, 512, 64)\n",
        "        \n",
        "        for j in range(BATCH_SIZE):\n",
        "            indexing, starting_index = training_indices_array[np.random.randint(len(training_indices_array))]  \n",
        "            left_mag, right_mag, mixed_mag = training_data[indexing]\n",
        "            input[j, 0, :, :] = torch.from_numpy(mixed_mag[:512, starting_index:starting_index + 64])\n",
        "            output[j, 0, :, :] = torch.from_numpy(left_mag[:512, starting_index:starting_index + 64])\n",
        "            output[j, 1, :, :] = torch.from_numpy(right_mag[:512, starting_index:starting_index + 64])\n",
        "            input = input.to(device)\n",
        "            output = output.to(device)\n",
        "        optimiser.zero_grad()\n",
        "        predicted = net(input).to(device)\n",
        " \n",
        "        loss = sum(torch.mean(torch.abs(predicted[x].mul(input) - output)) for x in range(1))\n",
        "        if loss>=0:\n",
        "          loss.backward()\n",
        "          loss_s += loss\n",
        "          optimiser.step()\n",
        "        if (i + 1) % TRAIN_SAVE_POINT == 0:\n",
        "            torch.save(net.state_dict(), 'Model1/checkpoint_{}.pt'.format(i + 1))\n",
        "            print( \"loss is {}\".format(loss_s / TRAIN_SAVE_POINT,))\n",
        "            loss_s = 0\n",
        "    \n",
        "\n",
        "def test(model='Model1/checkpoint_1500.pt'):\n",
        "    models = get_model()\n",
        "    models.load_state_dict(torch.load(model),strict=False)\n",
        "    models.to(device)\n",
        "    input = np.empty((BATCH_SIZE, 1, 512, 64), dtype=np.float32)\n",
        "    length = 0.\n",
        "    cnt = 0\n",
        "    gnsdr = 0.\n",
        "    gsir = 0.\n",
        "    gsar = 0.\n",
        "    for left, right, mix, left_magnitude, right_magnitude, mix_magnitude, max_value, mix_phase in data_generator(train_d,train=False):\n",
        "        source_length = mix_magnitude.shape[-1]\n",
        "        start_ind = 0\n",
        "        predicts_left = np.zeros((512, source_length), dtype=np.float32)\n",
        "        predicts_right = np.zeros((512, source_length), dtype=np.float32)\n",
        "        \n",
        "        start = time.time()\n",
        "        while start_ind + 64 < source_length:\n",
        "            \n",
        "            if start_ind and start_ind + (BATCH_SIZE - 1) * 32 + 64 < source_length:\n",
        "                for i in range(BATCH_SIZE):\n",
        "                    input[i, 0, :, :] = mix_magnitude[0:512, start_ind + i * 32:start_ind + i * 32 + 64]\n",
        "                output = models(torch.from_numpy(input).to(device))[-1].data.cpu().numpy() \n",
        "                for i in range(BATCH_SIZE):\n",
        "                    predicts_left[:, start_ind + i * 32 + 16: start_ind + i * 32 + 48] = output[i, 0, :, 16:48]\n",
        "                    predicts_right[:, start_ind + i * 32 + 16: start_ind + i * 32 + 48] = output[i, 1, :, 16:48]\n",
        "                start_ind += BATCH_SIZE * 32\n",
        "            else:\n",
        "                input[0, 0, :, :] = mix_magnitude[0:512, start_ind:start_ind + 64]\n",
        "                output = models(torch.from_numpy(input).to(device))[-1].data.cpu().numpy() \n",
        "                if start_ind == 0:\n",
        "                    predicts_left[:, 0:64] = output[0, 0, :, :]\n",
        "                    predicts_right[:, 0:64] = output[0, 1, :, :]\n",
        "                else:\n",
        "                    predicts_left[:, start_ind + 16: start_ind + 48] = output[0, 0, :, 16:48]\n",
        "                    predicts_right[:, start_ind + 16:start_ind + 48] = output[0, 1, :, 16:48]\n",
        "                start_ind += 32\n",
        "        input[0, 0, :, :] = mix_magnitude[0:512, source_length - 64:source_length]\n",
        "        output = models(torch.from_numpy(input).to(device))[-1].data.cpu().numpy()  \n",
        "        length = source_length - start_ind - 16\n",
        "        predicts_left[:, start_ind + 16:source_length] = output[0, 0, :, 64 - length:64]\n",
        "        predicts_right[:, start_ind + 16:source_length] = output[0, 1, :, 64 - length:64]\n",
        "        \n",
        "        predicts_left =np.nan_to_num(predicts_left)\n",
        "        predicts_right =np.nan_to_num(predicts_right)\n",
        "        predicts_left[np.where(predicts_left < 0)] = 0\n",
        "        predicts_right[np.where(predicts_right < 0)] = 0\n",
        "        predicts_left = predicts_left * mix_magnitude[0:512, :] * max_value\n",
        "        predicts_right = predicts_right * mix_magnitude[0:512, :] * max_value\n",
        "        predicts_left_wav = to_wav(predicts_left, mix_phase[0:512, :])\n",
        "        predicts_right_wav = to_wav(predicts_right, mix_phase[0:512, :])\n",
        "        predicts_left_wav = librosa.resample(predicts_left_wav, 8000, 16000)\n",
        "        predicts_right_wav = librosa.resample(predicts_right_wav, 8000, 16000)\n",
        "        sdr, sir, sar, lens = bss_eval(mix, left, right, predicts_left_wav,\n",
        "                                              predicts_right_wav)\n",
        "        length = length + lens\n",
        "        gnsdr = gnsdr + sdr * lens\n",
        "        gsir = gsir + sir * lens\n",
        "        gsar = gsar + sar * lens\n",
        "        cnt += 1\n",
        "        if cnt % TEST_STEP == 0:\n",
        "            print('GNSDR: ', gnsdr / length)\n",
        "            print('GSIR: ', gsir / length)\n",
        "            print('GSAR: ', gsar / length)\n",
        "            \n",
        "            \n",
        "        if cnt == TOTAL_TEST:\n",
        "            break\n",
        "\n",
        "\n",
        "os.mkdir('Model1')"
      ],
      "metadata": {
        "id": "lo28xdWyNLY8"
      },
      "execution_count": null,
      "outputs": []
    },
    {
      "cell_type": "markdown",
      "source": [
        "# New Section"
      ],
      "metadata": {
        "id": "rtydjmZ8g2Iz"
      }
    },
    {
      "cell_type": "code",
      "source": [
        "train()"
      ],
      "metadata": {
        "id": "ND99zTcgOX7S",
        "colab": {
          "base_uri": "https://localhost:8080/"
        },
        "outputId": "35e842ca-3c5a-48e4-eef5-d164bfa4734e"
      },
      "execution_count": null,
      "outputs": [
        {
          "output_type": "stream",
          "name": "stderr",
          "text": [
            "  3%|▎         | 52/1500 [00:06<03:16,  7.38it/s]"
          ]
        },
        {
          "output_type": "stream",
          "name": "stdout",
          "text": [
            "loss of 50 is tensor([-9.1422e+33], device='cuda:0', grad_fn=<DivBackward0>)\n"
          ]
        },
        {
          "output_type": "stream",
          "name": "stderr",
          "text": [
            "  7%|▋         | 102/1500 [00:12<03:00,  7.73it/s]"
          ]
        },
        {
          "output_type": "stream",
          "name": "stdout",
          "text": [
            "loss of 100 is 0.007760205771774054\n"
          ]
        },
        {
          "output_type": "stream",
          "name": "stderr",
          "text": [
            " 10%|█         | 152/1500 [00:19<02:54,  7.72it/s]"
          ]
        },
        {
          "output_type": "stream",
          "name": "stdout",
          "text": [
            "loss of 150 is 0.006792802829295397\n"
          ]
        },
        {
          "output_type": "stream",
          "name": "stderr",
          "text": [
            " 13%|█▎        | 202/1500 [00:25<02:49,  7.67it/s]"
          ]
        },
        {
          "output_type": "stream",
          "name": "stdout",
          "text": [
            "loss of 200 is 0.006208804901689291\n"
          ]
        },
        {
          "output_type": "stream",
          "name": "stderr",
          "text": [
            " 17%|█▋        | 252/1500 [00:31<02:43,  7.63it/s]"
          ]
        },
        {
          "output_type": "stream",
          "name": "stdout",
          "text": [
            "loss of 250 is 0.005664951168000698\n"
          ]
        },
        {
          "output_type": "stream",
          "name": "stderr",
          "text": [
            " 20%|██        | 302/1500 [00:38<02:36,  7.65it/s]"
          ]
        },
        {
          "output_type": "stream",
          "name": "stdout",
          "text": [
            "loss of 300 is 0.005553694441914558\n"
          ]
        },
        {
          "output_type": "stream",
          "name": "stderr",
          "text": [
            " 23%|██▎       | 352/1500 [00:44<02:30,  7.63it/s]"
          ]
        },
        {
          "output_type": "stream",
          "name": "stdout",
          "text": [
            "loss of 350 is 0.005484114866703749\n"
          ]
        },
        {
          "output_type": "stream",
          "name": "stderr",
          "text": [
            " 27%|██▋       | 402/1500 [00:51<02:26,  7.50it/s]"
          ]
        },
        {
          "output_type": "stream",
          "name": "stdout",
          "text": [
            "loss of 400 is 0.005225309636443853\n"
          ]
        },
        {
          "output_type": "stream",
          "name": "stderr",
          "text": [
            " 30%|███       | 452/1500 [00:57<02:19,  7.52it/s]"
          ]
        },
        {
          "output_type": "stream",
          "name": "stdout",
          "text": [
            "loss of 450 is 0.005576816853135824\n"
          ]
        },
        {
          "output_type": "stream",
          "name": "stderr",
          "text": [
            " 33%|███▎      | 502/1500 [01:03<02:14,  7.42it/s]"
          ]
        },
        {
          "output_type": "stream",
          "name": "stdout",
          "text": [
            "loss of 500 is 0.005300813354551792\n"
          ]
        },
        {
          "output_type": "stream",
          "name": "stderr",
          "text": [
            " 37%|███▋      | 552/1500 [01:10<02:05,  7.53it/s]"
          ]
        },
        {
          "output_type": "stream",
          "name": "stdout",
          "text": [
            "loss of 550 is 0.0048544565215706825\n"
          ]
        },
        {
          "output_type": "stream",
          "name": "stderr",
          "text": [
            " 40%|████      | 602/1500 [01:16<02:00,  7.44it/s]"
          ]
        },
        {
          "output_type": "stream",
          "name": "stdout",
          "text": [
            "loss of 600 is 0.004580163862556219\n"
          ]
        },
        {
          "output_type": "stream",
          "name": "stderr",
          "text": [
            " 43%|████▎     | 652/1500 [01:23<01:53,  7.50it/s]"
          ]
        },
        {
          "output_type": "stream",
          "name": "stdout",
          "text": [
            "loss of 650 is 0.004732952918857336\n"
          ]
        },
        {
          "output_type": "stream",
          "name": "stderr",
          "text": [
            " 47%|████▋     | 702/1500 [01:30<01:47,  7.41it/s]"
          ]
        },
        {
          "output_type": "stream",
          "name": "stdout",
          "text": [
            "loss of 700 is 0.004712476395070553\n"
          ]
        },
        {
          "output_type": "stream",
          "name": "stderr",
          "text": [
            " 50%|█████     | 752/1500 [01:36<01:44,  7.14it/s]"
          ]
        },
        {
          "output_type": "stream",
          "name": "stdout",
          "text": [
            "loss of 750 is 0.004698533099144697\n"
          ]
        },
        {
          "output_type": "stream",
          "name": "stderr",
          "text": [
            " 53%|█████▎    | 802/1500 [01:43<01:33,  7.43it/s]"
          ]
        },
        {
          "output_type": "stream",
          "name": "stdout",
          "text": [
            "loss of 800 is 0.004441540688276291\n"
          ]
        },
        {
          "output_type": "stream",
          "name": "stderr",
          "text": [
            " 57%|█████▋    | 852/1500 [01:49<01:28,  7.35it/s]"
          ]
        },
        {
          "output_type": "stream",
          "name": "stdout",
          "text": [
            "loss of 850 is 0.0044045522809028625\n"
          ]
        },
        {
          "output_type": "stream",
          "name": "stderr",
          "text": [
            " 60%|██████    | 902/1500 [01:56<01:21,  7.34it/s]"
          ]
        },
        {
          "output_type": "stream",
          "name": "stdout",
          "text": [
            "loss of 900 is 0.004813037812709808\n"
          ]
        },
        {
          "output_type": "stream",
          "name": "stderr",
          "text": [
            " 63%|██████▎   | 952/1500 [02:03<01:14,  7.34it/s]"
          ]
        },
        {
          "output_type": "stream",
          "name": "stdout",
          "text": [
            "loss of 950 is 0.004298831801861525\n"
          ]
        },
        {
          "output_type": "stream",
          "name": "stderr",
          "text": [
            " 67%|██████▋   | 1002/1500 [02:09<01:08,  7.31it/s]"
          ]
        },
        {
          "output_type": "stream",
          "name": "stdout",
          "text": [
            "loss of 1000 is 0.004038430750370026\n"
          ]
        },
        {
          "output_type": "stream",
          "name": "stderr",
          "text": [
            " 70%|███████   | 1052/1500 [02:16<01:01,  7.30it/s]"
          ]
        },
        {
          "output_type": "stream",
          "name": "stdout",
          "text": [
            "loss of 1050 is 0.004518741276115179\n"
          ]
        },
        {
          "output_type": "stream",
          "name": "stderr",
          "text": [
            " 73%|███████▎  | 1102/1500 [02:23<00:54,  7.33it/s]"
          ]
        },
        {
          "output_type": "stream",
          "name": "stdout",
          "text": [
            "loss of 1100 is 0.004611147567629814\n"
          ]
        },
        {
          "output_type": "stream",
          "name": "stderr",
          "text": [
            " 77%|███████▋  | 1152/1500 [02:29<00:48,  7.24it/s]"
          ]
        },
        {
          "output_type": "stream",
          "name": "stdout",
          "text": [
            "loss of 1150 is 0.004254947416484356\n"
          ]
        },
        {
          "output_type": "stream",
          "name": "stderr",
          "text": [
            " 80%|████████  | 1202/1500 [02:36<00:40,  7.33it/s]"
          ]
        },
        {
          "output_type": "stream",
          "name": "stdout",
          "text": [
            "loss of 1200 is 0.0039976718835532665\n"
          ]
        },
        {
          "output_type": "stream",
          "name": "stderr",
          "text": [
            " 83%|████████▎ | 1252/1500 [02:43<00:33,  7.33it/s]"
          ]
        },
        {
          "output_type": "stream",
          "name": "stdout",
          "text": [
            "loss of 1250 is 0.003943032119423151\n"
          ]
        },
        {
          "output_type": "stream",
          "name": "stderr",
          "text": [
            " 87%|████████▋ | 1302/1500 [02:50<00:32,  6.06it/s]"
          ]
        },
        {
          "output_type": "stream",
          "name": "stdout",
          "text": [
            "loss of 1300 is 0.003961499780416489\n"
          ]
        },
        {
          "output_type": "stream",
          "name": "stderr",
          "text": [
            " 90%|█████████ | 1352/1500 [02:56<00:20,  7.30it/s]"
          ]
        },
        {
          "output_type": "stream",
          "name": "stdout",
          "text": [
            "loss of 1350 is 0.004004259593784809\n"
          ]
        },
        {
          "output_type": "stream",
          "name": "stderr",
          "text": [
            " 93%|█████████▎| 1402/1500 [03:03<00:13,  7.22it/s]"
          ]
        },
        {
          "output_type": "stream",
          "name": "stdout",
          "text": [
            "loss of 1400 is 0.004023166839033365\n"
          ]
        },
        {
          "output_type": "stream",
          "name": "stderr",
          "text": [
            " 97%|█████████▋| 1452/1500 [03:10<00:06,  7.28it/s]"
          ]
        },
        {
          "output_type": "stream",
          "name": "stdout",
          "text": [
            "loss of 1450 is 0.004071845207363367\n"
          ]
        },
        {
          "output_type": "stream",
          "name": "stderr",
          "text": [
            "100%|██████████| 1500/1500 [03:17<00:00,  7.61it/s]"
          ]
        },
        {
          "output_type": "stream",
          "name": "stdout",
          "text": [
            "loss of 1500 is 0.0036650157999247313\n"
          ]
        },
        {
          "output_type": "stream",
          "name": "stderr",
          "text": [
            "\n"
          ]
        }
      ]
    },
    {
      "cell_type": "code",
      "source": [
        "test()"
      ],
      "metadata": {
        "id": "nTvS_ff8SywZ",
        "colab": {
          "base_uri": "https://localhost:8080/"
        },
        "outputId": "ab4bb749-f539-4ca6-f235-fe3bba96f60b"
      },
      "execution_count": null,
      "outputs": [
        {
          "output_type": "stream",
          "name": "stderr",
          "text": [
            "\r  0%|          | 0/230 [00:00<?, ?it/s]"
          ]
        },
        {
          "output_type": "stream",
          "name": "stdout",
          "text": [
            "\n",
            "\n"
          ]
        },
        {
          "output_type": "stream",
          "name": "stderr",
          "text": [
            "  9%|▊         | 20/230 [00:40<06:54,  1.97s/it]"
          ]
        },
        {
          "output_type": "stream",
          "name": "stdout",
          "text": [
            "GNSDR:  [ 9.29741592 10.42193195]\n",
            "GSIR:  [12.58453554 16.66428616]\n",
            "GSAR:  [12.57899469 11.90913728]\n"
          ]
        },
        {
          "output_type": "stream",
          "name": "stderr",
          "text": [
            " 17%|█▋        | 40/230 [01:21<06:42,  2.12s/it]"
          ]
        },
        {
          "output_type": "stream",
          "name": "stdout",
          "text": [
            "GNSDR:  [ 9.70749218 11.37613688]\n",
            "GSIR:  [13.09621566 18.36202007]\n",
            "GSAR:  [12.84738225 12.59647486]\n"
          ]
        },
        {
          "output_type": "stream",
          "name": "stderr",
          "text": [
            " 26%|██▌       | 60/230 [02:01<04:58,  1.76s/it]"
          ]
        },
        {
          "output_type": "stream",
          "name": "stdout",
          "text": [
            "GNSDR:  [10.28430351 11.68311888]\n",
            "GSIR:  [13.7723883  18.17143087]\n",
            "GSAR:  [13.29402505 13.05509648]\n"
          ]
        },
        {
          "output_type": "stream",
          "name": "stderr",
          "text": [
            " 35%|███▍      | 80/230 [02:44<05:54,  2.36s/it]"
          ]
        },
        {
          "output_type": "stream",
          "name": "stdout",
          "text": [
            "GNSDR:  [10.04313206 11.1565374 ]\n",
            "GSIR:  [13.62193581 17.37148438]\n",
            "GSAR:  [12.95262842 12.63493689]\n"
          ]
        },
        {
          "output_type": "stream",
          "name": "stderr",
          "text": [
            " 43%|████▎     | 100/230 [03:24<04:57,  2.29s/it]"
          ]
        },
        {
          "output_type": "stream",
          "name": "stdout",
          "text": [
            "GNSDR:  [10.04616764 10.98417414]\n",
            "GSIR:  [13.73086824 17.11728164]\n",
            "GSAR:  [12.86229138 12.50103796]\n"
          ]
        },
        {
          "output_type": "stream",
          "name": "stderr",
          "text": [
            " 52%|█████▏    | 120/230 [04:06<03:45,  2.05s/it]"
          ]
        },
        {
          "output_type": "stream",
          "name": "stdout",
          "text": [
            "GNSDR:  [ 9.83632429 10.59295268]\n",
            "GSIR:  [13.51770058 16.48298477]\n",
            "GSAR:  [12.65608534 12.24096361]\n"
          ]
        },
        {
          "output_type": "stream",
          "name": "stderr",
          "text": [
            " 61%|██████    | 140/230 [04:52<03:02,  2.03s/it]"
          ]
        },
        {
          "output_type": "stream",
          "name": "stdout",
          "text": [
            "GNSDR:  [ 9.70593504 10.46370629]\n",
            "GSIR:  [13.3423235  16.42841189]\n",
            "GSAR:  [12.56302139 12.06448865]\n"
          ]
        },
        {
          "output_type": "stream",
          "name": "stderr",
          "text": [
            " 70%|██████▉   | 160/230 [05:34<02:25,  2.08s/it]"
          ]
        },
        {
          "output_type": "stream",
          "name": "stdout",
          "text": [
            "GNSDR:  [ 9.36049741 10.08767785]\n",
            "GSIR:  [12.88312197 16.15539319]\n",
            "GSAR:  [12.34921475 11.65705907]\n"
          ]
        },
        {
          "output_type": "stream",
          "name": "stderr",
          "text": [
            " 78%|███████▊  | 180/230 [06:15<01:37,  1.95s/it]"
          ]
        },
        {
          "output_type": "stream",
          "name": "stdout",
          "text": [
            "GNSDR:  [9.22316346 9.93416299]\n",
            "GSIR:  [12.69611405 16.05380933]\n",
            "GSAR:  [12.27546722 11.49451346]\n"
          ]
        },
        {
          "output_type": "stream",
          "name": "stderr",
          "text": [
            " 87%|████████▋ | 200/230 [06:59<01:04,  2.15s/it]"
          ]
        },
        {
          "output_type": "stream",
          "name": "stdout",
          "text": [
            "GNSDR:  [9.14837977 9.86141017]\n",
            "GSIR:  [12.64298148 16.05023346]\n",
            "GSAR:  [12.1842329  11.39280715]\n"
          ]
        },
        {
          "output_type": "stream",
          "name": "stderr",
          "text": [
            " 96%|█████████▌| 220/230 [07:39<00:18,  1.80s/it]"
          ]
        },
        {
          "output_type": "stream",
          "name": "stdout",
          "text": [
            "GNSDR:  [9.08708454 9.79673213]\n",
            "GSIR:  [12.57614819 15.98145621]\n",
            "GSAR:  [12.13160477 11.32328618]\n"
          ]
        },
        {
          "output_type": "stream",
          "name": "stderr",
          "text": [
            "100%|██████████| 230/230 [07:58<00:00,  2.08s/it]\n"
          ]
        }
      ]
    },
    {
      "cell_type": "markdown",
      "source": [
        "#STACKED HOURGLASS - 2 "
      ],
      "metadata": {
        "id": "ECzb8v2RaUve"
      }
    },
    {
      "cell_type": "code",
      "source": [
        "NUM_STACKS = 2 \n",
        "device = torch.device(\"cuda:0\" if torch.cuda.is_available() else \"cpu\")\n",
        "\n",
        "def train():\n",
        "    net = get_model()\n",
        "    net.to(device)\n",
        "    training_data, training_indices_array = get_train_data()\n",
        "    loss_s = torch.empty(1).to(device)\n",
        "    optimiser = torch.optim.Adam(net.parameters(), lr=0.001)\n",
        "    for i in tqdm.tqdm(range(ITERATIONS)):\n",
        "        # declaring input and output tensors\n",
        "        input = torch.empty(BATCH_SIZE, 1, 512, 64)\n",
        "        output = torch.empty(BATCH_SIZE, 2, 512, 64)\n",
        "        \n",
        "        for j in range(BATCH_SIZE):\n",
        "            indexing, starting_index = training_indices_array[np.random.randint(len(training_indices_array))]  \n",
        "            left_mag, right_mag, mixed_mag = training_data[indexing]\n",
        "            input[j, 0, :, :] = torch.from_numpy(mixed_mag[:512, starting_index:starting_index + 64])\n",
        "            output[j, 0, :, :] = torch.from_numpy(left_mag[:512, starting_index:starting_index + 64])\n",
        "            output[j, 1, :, :] = torch.from_numpy(right_mag[:512, starting_index:starting_index + 64])\n",
        "            input = input.to(device)\n",
        "            output = output.to(device)\n",
        "        optimiser.zero_grad()\n",
        "        predicted = net(input).to(device)\n",
        " \n",
        "        loss = sum(torch.mean(torch.abs(predicted[x].mul(input) - output)) for x in range(2))\n",
        "        if loss>=0:\n",
        "          loss.backward()\n",
        "          loss_s += loss\n",
        "          optimiser.step()\n",
        "        if (i + 1) % TRAIN_SAVE_POINT == 0:\n",
        "            torch.save(net.state_dict(), 'Model2/checkpoint_{}.pt'.format(i + 1))\n",
        "            print( \"loss is {}\".format(loss_s / TRAIN_SAVE_POINT,))\n",
        "            loss_s = 0\n",
        "\n",
        "def test(model='Model2/checkpoint_1500.pt'):\n",
        "    models = get_model()\n",
        "    models.load_state_dict(torch.load(model),strict=False)\n",
        "    models.to(device)\n",
        "    input = np.empty((BATCH_SIZE, 1, 512, 64), dtype=np.float32)\n",
        "    length = 0.\n",
        "    cnt = 0\n",
        "    gnsdr = 0.\n",
        "    gsir = 0.\n",
        "    gsar = 0.\n",
        "    for left, right, mix, left_magnitude, right_magnitude, mix_magnitude, max_value, mix_phase in data_generator(train_d,train=False):\n",
        "        source_length = mix_magnitude.shape[-1]\n",
        "        start_ind = 0\n",
        "        predicts_left = np.zeros((512, source_length), dtype=np.float32)\n",
        "        predicts_right = np.zeros((512, source_length), dtype=np.float32)\n",
        "        \n",
        "        start = time.time()\n",
        "        while start_ind + 64 < source_length:\n",
        "            \n",
        "            if start_ind and start_ind + (BATCH_SIZE - 1) * 32 + 64 < source_length:\n",
        "                for i in range(BATCH_SIZE):\n",
        "                    input[i, 0, :, :] = mix_magnitude[0:512, start_ind + i * 32:start_ind + i * 32 + 64]\n",
        "                output = models(torch.from_numpy(input).to(device))[-1].data.cpu().numpy() \n",
        "                for i in range(BATCH_SIZE):\n",
        "                    predicts_left[:, start_ind + i * 32 + 16: start_ind + i * 32 + 48] = output[i, 0, :, 16:48]\n",
        "                    predicts_right[:, start_ind + i * 32 + 16: start_ind + i * 32 + 48] = output[i, 1, :, 16:48]\n",
        "                start_ind += BATCH_SIZE * 32\n",
        "            else:\n",
        "                input[0, 0, :, :] = mix_magnitude[0:512, start_ind:start_ind + 64]\n",
        "                output = models(torch.from_numpy(input).to(device))[-1].data.cpu().numpy() \n",
        "                if start_ind == 0:\n",
        "                    predicts_left[:, 0:64] = output[0, 0, :, :]\n",
        "                    predicts_right[:, 0:64] = output[0, 1, :, :]\n",
        "                else:\n",
        "                    predicts_left[:, start_ind + 16: start_ind + 48] = output[0, 0, :, 16:48]\n",
        "                    predicts_right[:, start_ind + 16:start_ind + 48] = output[0, 1, :, 16:48]\n",
        "                start_ind += 32\n",
        "        input[0, 0, :, :] = mix_magnitude[0:512, source_length - 64:source_length]\n",
        "        output = models(torch.from_numpy(input).to(device))[-1].data.cpu().numpy()  \n",
        "        length = source_length - start_ind - 16\n",
        "        predicts_left[:, start_ind + 16:source_length] = output[0, 0, :, 64 - length:64]\n",
        "        predicts_right[:, start_ind + 16:source_length] = output[0, 1, :, 64 - length:64]\n",
        "        \n",
        "        predicts_left =np.nan_to_num(predicts_left)\n",
        "        predicts_right =np.nan_to_num(predicts_right)\n",
        "        predicts_left[np.where(predicts_left < 0)] = 0\n",
        "        predicts_right[np.where(predicts_right < 0)] = 0\n",
        "        predicts_left = predicts_left * mix_magnitude[0:512, :] * max_value\n",
        "        predicts_right = predicts_right * mix_magnitude[0:512, :] * max_value\n",
        "        predicts_left_wav = to_wav(predicts_left, mix_phase[0:512, :])\n",
        "        predicts_right_wav = to_wav(predicts_right, mix_phase[0:512, :])\n",
        "        predicts_left_wav = librosa.resample(predicts_left_wav, 8000, 16000)\n",
        "        predicts_right_wav = librosa.resample(predicts_right_wav, 8000, 16000)\n",
        "        sdr, sir, sar, lens = bss_eval(mix, left, right, predicts_left_wav,\n",
        "                                              predicts_right_wav)\n",
        "        length = length + lens\n",
        "        gnsdr = gnsdr + sdr * lens\n",
        "        gsir = gsir + sir * lens\n",
        "        gsar = gsar + sar * lens\n",
        "        cnt += 1\n",
        "        if cnt % TEST_STEP == 0:\n",
        "            print('GNSDR: ', gnsdr / length)\n",
        "            print('GSIR: ', gsir / length)\n",
        "            print('GSAR: ', gsar / length)\n",
        "            \n",
        "            \n",
        "        if cnt == TOTAL_TEST:\n",
        "            break\n",
        "\n",
        "os.mkdir('Model2')"
      ],
      "metadata": {
        "id": "fRh8AScUNP4q"
      },
      "execution_count": null,
      "outputs": []
    },
    {
      "cell_type": "code",
      "source": [
        "#TOTAL NUMBER OF TRAINABLE PARAMETERS\n",
        "net = get_model()\n",
        "total_params_SH2 = sum(p.numel() for p in net.parameters() if p.requires_grad)\n",
        "print(total_params_SH2)"
      ],
      "metadata": {
        "colab": {
          "base_uri": "https://localhost:8080/"
        },
        "id": "vJpz_u1R_D7x",
        "outputId": "75458c71-0973-4571-a47e-0bc541c3112c"
      },
      "execution_count": null,
      "outputs": [
        {
          "output_type": "stream",
          "name": "stdout",
          "text": [
            "17475276\n"
          ]
        }
      ]
    },
    {
      "cell_type": "code",
      "source": [
        "train()"
      ],
      "metadata": {
        "id": "7i5qZJYMbkjH",
        "colab": {
          "base_uri": "https://localhost:8080/"
        },
        "outputId": "faca6dd1-155d-4d5e-af5d-af04df639840"
      },
      "execution_count": null,
      "outputs": [
        {
          "metadata": {
            "tags": null
          },
          "name": "stderr",
          "output_type": "stream",
          "text": [
            "  3%|▎         | 50/1500 [00:10<06:10,  3.92it/s]"
          ]
        },
        {
          "metadata": {
            "tags": null
          },
          "name": "stdout",
          "output_type": "stream",
          "text": [
            "loss of 50 is tensor([0.0195], device='cuda:0', grad_fn=<DivBackward0>)\n"
          ]
        },
        {
          "metadata": {
            "tags": null
          },
          "name": "stderr",
          "output_type": "stream",
          "text": [
            "  7%|▋         | 100/1500 [00:21<06:08,  3.80it/s]"
          ]
        },
        {
          "metadata": {
            "tags": null
          },
          "name": "stdout",
          "output_type": "stream",
          "text": [
            "loss of 100 is 0.015661755576729774\n"
          ]
        },
        {
          "metadata": {
            "tags": null
          },
          "name": "stderr",
          "output_type": "stream",
          "text": [
            " 10%|█         | 150/1500 [00:31<05:40,  3.97it/s]"
          ]
        },
        {
          "metadata": {
            "tags": null
          },
          "name": "stdout",
          "output_type": "stream",
          "text": [
            "loss of 150 is 0.01224567275494337\n"
          ]
        },
        {
          "metadata": {
            "tags": null
          },
          "name": "stderr",
          "output_type": "stream",
          "text": [
            " 13%|█▎        | 200/1500 [00:42<05:30,  3.93it/s]"
          ]
        },
        {
          "metadata": {
            "tags": null
          },
          "name": "stdout",
          "output_type": "stream",
          "text": [
            "loss of 200 is 0.011883318424224854\n"
          ]
        },
        {
          "metadata": {
            "tags": null
          },
          "name": "stderr",
          "output_type": "stream",
          "text": [
            " 17%|█▋        | 250/1500 [00:53<05:22,  3.88it/s]"
          ]
        },
        {
          "metadata": {
            "tags": null
          },
          "name": "stdout",
          "output_type": "stream",
          "text": [
            "loss of 250 is 0.012043341062963009\n"
          ]
        },
        {
          "metadata": {
            "tags": null
          },
          "name": "stderr",
          "output_type": "stream",
          "text": [
            " 20%|██        | 300/1500 [01:04<05:08,  3.90it/s]"
          ]
        },
        {
          "metadata": {
            "tags": null
          },
          "name": "stdout",
          "output_type": "stream",
          "text": [
            "loss of 300 is 0.011263801716268063\n"
          ]
        },
        {
          "metadata": {
            "tags": null
          },
          "name": "stderr",
          "output_type": "stream",
          "text": [
            " 23%|██▎       | 350/1500 [01:15<04:57,  3.87it/s]"
          ]
        },
        {
          "metadata": {
            "tags": null
          },
          "name": "stdout",
          "output_type": "stream",
          "text": [
            "loss of 350 is 0.010137338191270828\n"
          ]
        },
        {
          "metadata": {
            "tags": null
          },
          "name": "stderr",
          "output_type": "stream",
          "text": [
            " 27%|██▋       | 400/1500 [01:26<04:46,  3.84it/s]"
          ]
        },
        {
          "metadata": {
            "tags": null
          },
          "name": "stdout",
          "output_type": "stream",
          "text": [
            "loss of 400 is 0.010054368525743484\n"
          ]
        },
        {
          "metadata": {
            "tags": null
          },
          "name": "stderr",
          "output_type": "stream",
          "text": [
            " 30%|███       | 450/1500 [01:37<05:35,  3.13it/s]"
          ]
        },
        {
          "metadata": {
            "tags": null
          },
          "name": "stdout",
          "output_type": "stream",
          "text": [
            "loss of 450 is 0.009947076439857483\n"
          ]
        },
        {
          "metadata": {
            "tags": null
          },
          "name": "stderr",
          "output_type": "stream",
          "text": [
            " 33%|███▎      | 500/1500 [01:48<04:20,  3.83it/s]"
          ]
        },
        {
          "metadata": {
            "tags": null
          },
          "name": "stdout",
          "output_type": "stream",
          "text": [
            "loss of 500 is 0.010157236829400063\n"
          ]
        },
        {
          "metadata": {
            "tags": null
          },
          "name": "stderr",
          "output_type": "stream",
          "text": [
            " 37%|███▋      | 550/1500 [01:59<04:07,  3.84it/s]"
          ]
        },
        {
          "metadata": {
            "tags": null
          },
          "name": "stdout",
          "output_type": "stream",
          "text": [
            "loss of 550 is 0.009244334883987904\n"
          ]
        },
        {
          "metadata": {
            "tags": null
          },
          "name": "stderr",
          "output_type": "stream",
          "text": [
            " 40%|████      | 600/1500 [02:10<03:55,  3.83it/s]"
          ]
        },
        {
          "metadata": {
            "tags": null
          },
          "name": "stdout",
          "output_type": "stream",
          "text": [
            "loss of 600 is 0.009110729210078716\n"
          ]
        },
        {
          "metadata": {
            "tags": null
          },
          "name": "stderr",
          "output_type": "stream",
          "text": [
            " 43%|████▎     | 650/1500 [02:21<03:43,  3.80it/s]"
          ]
        },
        {
          "metadata": {
            "tags": null
          },
          "name": "stdout",
          "output_type": "stream",
          "text": [
            "loss of 650 is 0.009565181098878384\n"
          ]
        },
        {
          "metadata": {
            "tags": null
          },
          "name": "stderr",
          "output_type": "stream",
          "text": [
            " 47%|████▋     | 700/1500 [02:32<03:31,  3.77it/s]"
          ]
        },
        {
          "metadata": {
            "tags": null
          },
          "name": "stdout",
          "output_type": "stream",
          "text": [
            "loss of 700 is 0.008802094496786594\n"
          ]
        },
        {
          "metadata": {
            "tags": null
          },
          "name": "stderr",
          "output_type": "stream",
          "text": [
            " 50%|█████     | 750/1500 [02:44<03:18,  3.78it/s]"
          ]
        },
        {
          "metadata": {
            "tags": null
          },
          "name": "stdout",
          "output_type": "stream",
          "text": [
            "loss of 750 is 0.008578644134104252\n"
          ]
        },
        {
          "metadata": {
            "tags": null
          },
          "name": "stderr",
          "output_type": "stream",
          "text": [
            " 53%|█████▎    | 800/1500 [02:55<03:15,  3.58it/s]"
          ]
        },
        {
          "metadata": {
            "tags": null
          },
          "name": "stdout",
          "output_type": "stream",
          "text": [
            "loss of 800 is 0.008322295732796192\n"
          ]
        },
        {
          "metadata": {
            "tags": null
          },
          "name": "stderr",
          "output_type": "stream",
          "text": [
            " 57%|█████▋    | 850/1500 [03:06<02:51,  3.79it/s]"
          ]
        },
        {
          "metadata": {
            "tags": null
          },
          "name": "stdout",
          "output_type": "stream",
          "text": [
            "loss of 850 is 0.008967826142907143\n"
          ]
        },
        {
          "metadata": {
            "tags": null
          },
          "name": "stderr",
          "output_type": "stream",
          "text": [
            " 60%|██████    | 900/1500 [03:18<02:38,  3.79it/s]"
          ]
        },
        {
          "metadata": {
            "tags": null
          },
          "name": "stdout",
          "output_type": "stream",
          "text": [
            "loss of 900 is 0.009264418855309486\n"
          ]
        },
        {
          "metadata": {
            "tags": null
          },
          "name": "stderr",
          "output_type": "stream",
          "text": [
            " 63%|██████▎   | 950/1500 [03:29<02:25,  3.77it/s]"
          ]
        },
        {
          "metadata": {
            "tags": null
          },
          "name": "stdout",
          "output_type": "stream",
          "text": [
            "loss of 950 is 0.008302843198180199\n"
          ]
        },
        {
          "metadata": {
            "tags": null
          },
          "name": "stderr",
          "output_type": "stream",
          "text": [
            " 67%|██████▋   | 1000/1500 [03:40<02:15,  3.69it/s]"
          ]
        },
        {
          "metadata": {
            "tags": null
          },
          "name": "stdout",
          "output_type": "stream",
          "text": [
            "loss of 1000 is 0.008184941485524178\n"
          ]
        },
        {
          "metadata": {
            "tags": null
          },
          "name": "stderr",
          "output_type": "stream",
          "text": [
            " 70%|███████   | 1050/1500 [03:52<01:58,  3.79it/s]"
          ]
        },
        {
          "metadata": {
            "tags": null
          },
          "name": "stdout",
          "output_type": "stream",
          "text": [
            "loss of 1050 is 0.0075713531114161015\n"
          ]
        },
        {
          "output_type": "stream",
          "name": "stderr",
          "text": [
            " 73%|███████▎  | 1100/1500 [04:03<01:47,  3.73it/s]"
          ]
        },
        {
          "output_type": "stream",
          "name": "stdout",
          "text": [
            "loss of 1100 is 0.007960546761751175\n"
          ]
        },
        {
          "output_type": "stream",
          "name": "stderr",
          "text": [
            " 77%|███████▋  | 1150/1500 [04:14<01:33,  3.74it/s]"
          ]
        },
        {
          "output_type": "stream",
          "name": "stdout",
          "text": [
            "loss of 1150 is 0.00811872910708189\n"
          ]
        },
        {
          "output_type": "stream",
          "name": "stderr",
          "text": [
            " 80%|████████  | 1200/1500 [04:26<01:20,  3.71it/s]"
          ]
        },
        {
          "output_type": "stream",
          "name": "stdout",
          "text": [
            "loss of 1200 is 0.0080467713996768\n"
          ]
        },
        {
          "output_type": "stream",
          "name": "stderr",
          "text": [
            " 83%|████████▎ | 1250/1500 [04:37<01:09,  3.58it/s]"
          ]
        },
        {
          "output_type": "stream",
          "name": "stdout",
          "text": [
            "loss of 1250 is 0.007549282629042864\n"
          ]
        },
        {
          "output_type": "stream",
          "name": "stderr",
          "text": [
            " 87%|████████▋ | 1300/1500 [04:49<00:53,  3.75it/s]"
          ]
        },
        {
          "output_type": "stream",
          "name": "stdout",
          "text": [
            "loss of 1300 is 0.00805914681404829\n"
          ]
        },
        {
          "output_type": "stream",
          "name": "stderr",
          "text": [
            " 90%|█████████ | 1350/1500 [05:00<00:40,  3.75it/s]"
          ]
        },
        {
          "output_type": "stream",
          "name": "stdout",
          "text": [
            "loss of 1350 is 0.0071518453769385815\n"
          ]
        },
        {
          "output_type": "stream",
          "name": "stderr",
          "text": [
            " 93%|█████████▎| 1400/1500 [05:12<00:26,  3.71it/s]"
          ]
        },
        {
          "output_type": "stream",
          "name": "stdout",
          "text": [
            "loss of 1400 is 0.007266509812325239\n"
          ]
        },
        {
          "output_type": "stream",
          "name": "stderr",
          "text": [
            " 97%|█████████▋| 1450/1500 [05:23<00:13,  3.74it/s]"
          ]
        },
        {
          "output_type": "stream",
          "name": "stdout",
          "text": [
            "loss of 1450 is 0.007946201600134373\n"
          ]
        },
        {
          "output_type": "stream",
          "name": "stderr",
          "text": [
            "100%|██████████| 1500/1500 [05:34<00:00,  4.48it/s]"
          ]
        },
        {
          "output_type": "stream",
          "name": "stdout",
          "text": [
            "loss of 1500 is 0.0073224701918661594\n"
          ]
        },
        {
          "output_type": "stream",
          "name": "stderr",
          "text": [
            "\n"
          ]
        }
      ]
    },
    {
      "cell_type": "code",
      "source": [
        "test()"
      ],
      "metadata": {
        "id": "ujBLMSYHblli",
        "colab": {
          "base_uri": "https://localhost:8080/"
        },
        "outputId": "dbfc3951-94b4-4693-f757-e07daf0fdc73"
      },
      "execution_count": null,
      "outputs": [
        {
          "output_type": "stream",
          "name": "stderr",
          "text": [
            "  9%|▊         | 20/230 [00:47<07:21,  2.10s/it]"
          ]
        },
        {
          "output_type": "stream",
          "name": "stdout",
          "text": [
            "GNSDR:  [ 9.80038162 10.70581223]\n",
            "GSIR:  [13.92219722 17.90606632]\n",
            "GSAR:  [12.35646391 11.90790399]\n"
          ]
        },
        {
          "output_type": "stream",
          "name": "stderr",
          "text": [
            " 17%|█▋        | 40/230 [01:28<06:58,  2.20s/it]"
          ]
        },
        {
          "output_type": "stream",
          "name": "stdout",
          "text": [
            "GNSDR:  [10.2807994  11.76483737]\n",
            "GSIR:  [14.51503801 19.34933434]\n",
            "GSAR:  [12.73278651 12.84248022]\n"
          ]
        },
        {
          "output_type": "stream",
          "name": "stderr",
          "text": [
            " 26%|██▌       | 60/230 [02:11<05:18,  1.88s/it]"
          ]
        },
        {
          "output_type": "stream",
          "name": "stdout",
          "text": [
            "GNSDR:  [10.81713491 12.04350591]\n",
            "GSIR:  [15.09797193 19.07112211]\n",
            "GSAR:  [13.18366846 13.26820841]\n"
          ]
        },
        {
          "output_type": "stream",
          "name": "stderr",
          "text": [
            " 35%|███▍      | 80/230 [02:55<06:06,  2.44s/it]"
          ]
        },
        {
          "output_type": "stream",
          "name": "stdout",
          "text": [
            "GNSDR:  [10.39018532 11.41933706]\n",
            "GSIR:  [14.6088455  18.26053922]\n",
            "GSAR:  [12.78269194 12.72324377]\n"
          ]
        },
        {
          "output_type": "stream",
          "name": "stderr",
          "text": [
            " 43%|████▎     | 100/230 [03:38<05:10,  2.39s/it]"
          ]
        },
        {
          "output_type": "stream",
          "name": "stdout",
          "text": [
            "GNSDR:  [10.32795374 11.24362138]\n",
            "GSIR:  [14.56788984 18.01217075]\n",
            "GSAR:  [12.70881958 12.56851562]\n"
          ]
        },
        {
          "output_type": "stream",
          "name": "stderr",
          "text": [
            " 52%|█████▏    | 120/230 [04:21<03:51,  2.10s/it]"
          ]
        },
        {
          "output_type": "stream",
          "name": "stdout",
          "text": [
            "GNSDR:  [10.1185801  10.92782104]\n",
            "GSIR:  [14.27041494 17.48634681]\n",
            "GSAR:  [12.56779111 12.36979024]\n"
          ]
        },
        {
          "output_type": "stream",
          "name": "stderr",
          "text": [
            " 61%|██████    | 140/230 [05:09<03:16,  2.18s/it]"
          ]
        },
        {
          "output_type": "stream",
          "name": "stdout",
          "text": [
            "GNSDR:  [ 9.89296359 10.73810313]\n",
            "GSIR:  [13.91844425 17.45360738]\n",
            "GSAR:  [12.44916856 12.13580855]\n"
          ]
        },
        {
          "output_type": "stream",
          "name": "stderr",
          "text": [
            " 70%|██████▉   | 160/230 [05:54<02:31,  2.16s/it]"
          ]
        },
        {
          "output_type": "stream",
          "name": "stdout",
          "text": [
            "GNSDR:  [ 9.5134581  10.36237065]\n",
            "GSIR:  [13.37553193 17.23238807]\n",
            "GSAR:  [12.23535929 11.71269808]\n"
          ]
        },
        {
          "output_type": "stream",
          "name": "stderr",
          "text": [
            " 78%|███████▊  | 180/230 [06:36<01:41,  2.04s/it]"
          ]
        },
        {
          "output_type": "stream",
          "name": "stdout",
          "text": [
            "GNSDR:  [ 9.33180972 10.13206078]\n",
            "GSIR:  [13.14165889 16.96677621]\n",
            "GSAR:  [12.09741074 11.51331324]\n"
          ]
        },
        {
          "output_type": "stream",
          "name": "stderr",
          "text": [
            " 87%|████████▋ | 200/230 [07:22<01:06,  2.23s/it]"
          ]
        },
        {
          "output_type": "stream",
          "name": "stdout",
          "text": [
            "GNSDR:  [ 9.22554019 10.02901378]\n",
            "GSIR:  [13.03318357 16.88618576]\n",
            "GSAR:  [11.98986417 11.39522551]\n"
          ]
        },
        {
          "output_type": "stream",
          "name": "stderr",
          "text": [
            " 96%|█████████▌| 220/230 [08:03<00:18,  1.83s/it]"
          ]
        },
        {
          "output_type": "stream",
          "name": "stdout",
          "text": [
            "GNSDR:  [9.14332844 9.93643997]\n",
            "GSIR:  [12.92863707 16.77771608]\n",
            "GSAR:  [11.92048093 11.30910882]\n"
          ]
        },
        {
          "output_type": "stream",
          "name": "stderr",
          "text": [
            "100%|██████████| 230/230 [08:23<00:00,  2.19s/it]\n"
          ]
        }
      ]
    },
    {
      "cell_type": "markdown",
      "source": [
        "#STACKED HOURGLASS - 4"
      ],
      "metadata": {
        "id": "3dejyq8bbujj"
      }
    },
    {
      "cell_type": "code",
      "execution_count": null,
      "metadata": {
        "id": "02cL7AlvOplu"
      },
      "outputs": [],
      "source": [
        "MAX_ITERATIONS = 500\n",
        "NUM_STACKS = 4  \n",
        "device = torch.device(\"cuda:0\" if torch.cuda.is_available() else \"cpu\")\n",
        "\n",
        "def train():\n",
        "    net = get_model()\n",
        "    net.to(device)\n",
        "    training_data, training_indices_array = get_train_data()\n",
        "    loss_s = torch.empty(1).to(device)\n",
        "    optimiser = torch.optim.Adam(net.parameters(), lr=0.001)\n",
        "    for i in tqdm.tqdm(range(ITERATIONS)):\n",
        "        # declaring input and output tensors\n",
        "        input = torch.empty(BATCH_SIZE, 1, 512, 64)\n",
        "        output = torch.empty(BATCH_SIZE, 2, 512, 64)\n",
        "        \n",
        "        for j in range(BATCH_SIZE):\n",
        "            indexing, starting_index = training_indices_array[np.random.randint(len(training_indices_array))]  \n",
        "            left_mag, right_mag, mixed_mag = training_data[indexing]\n",
        "            input[j, 0, :, :] = torch.from_numpy(mixed_mag[:512, starting_index:starting_index + 64])\n",
        "            output[j, 0, :, :] = torch.from_numpy(left_mag[:512, starting_index:starting_index + 64])\n",
        "            output[j, 1, :, :] = torch.from_numpy(right_mag[:512, starting_index:starting_index + 64])\n",
        "            input = input.to(device)\n",
        "            output = output.to(device)\n",
        "        optimiser.zero_grad()\n",
        "        predicted = net(input).to(device)\n",
        " \n",
        "        loss = sum(torch.mean(torch.abs(predicted[x].mul(input) - output)) for x in range(4))\n",
        "        if loss>=0:\n",
        "          loss.backward()\n",
        "          loss_s += loss\n",
        "          optimiser.step()\n",
        "        if (i + 1) % TRAIN_SAVE_POINT == 0:\n",
        "            torch.save(net.state_dict(), 'Model4/checkpoint_{}.pt'.format(i + 1))\n",
        "            print( \"loss is {}\".format(loss_s / TRAIN_SAVE_POINT,))\n",
        "            loss_s = 0\n",
        "def test(model='Model4/checkpoint_500.pt'):\n",
        "    models = get_model()\n",
        "    models.load_state_dict(torch.load(model),strict=False)\n",
        "    models.to(device)\n",
        "    input = np.empty((BATCH_SIZE, 1, 512, 64), dtype=np.float32)\n",
        "    length = 0.\n",
        "    cnt = 0\n",
        "    gnsdr = 0.\n",
        "    gsir = 0.\n",
        "    gsar = 0.\n",
        "    for left, right, mix, left_magnitude, right_magnitude, mix_magnitude, max_value, mix_phase in data_generator(train_d,train=False):\n",
        "        source_length = mix_magnitude.shape[-1]\n",
        "        start_ind = 0\n",
        "        predicts_left = np.zeros((512, source_length), dtype=np.float32)\n",
        "        predicts_right = np.zeros((512, source_length), dtype=np.float32)\n",
        "        \n",
        "        start = time.time()\n",
        "        while start_ind + 64 < source_length:\n",
        "            \n",
        "            if start_ind and start_ind + (BATCH_SIZE - 1) * 32 + 64 < source_length:\n",
        "                for i in range(BATCH_SIZE):\n",
        "                    input[i, 0, :, :] = mix_magnitude[0:512, start_ind + i * 32:start_ind + i * 32 + 64]\n",
        "                output = models(torch.from_numpy(input).to(device))[-1].data.cpu().numpy() \n",
        "                for i in range(BATCH_SIZE):\n",
        "                    predicts_left[:, start_ind + i * 32 + 16: start_ind + i * 32 + 48] = output[i, 0, :, 16:48]\n",
        "                    predicts_right[:, start_ind + i * 32 + 16: start_ind + i * 32 + 48] = output[i, 1, :, 16:48]\n",
        "                start_ind += BATCH_SIZE * 32\n",
        "            else:\n",
        "                input[0, 0, :, :] = mix_magnitude[0:512, start_ind:start_ind + 64]\n",
        "                output = models(torch.from_numpy(input).to(device))[-1].data.cpu().numpy() \n",
        "                if start_ind == 0:\n",
        "                    predicts_left[:, 0:64] = output[0, 0, :, :]\n",
        "                    predicts_right[:, 0:64] = output[0, 1, :, :]\n",
        "                else:\n",
        "                    predicts_left[:, start_ind + 16: start_ind + 48] = output[0, 0, :, 16:48]\n",
        "                    predicts_right[:, start_ind + 16:start_ind + 48] = output[0, 1, :, 16:48]\n",
        "                start_ind += 32\n",
        "        input[0, 0, :, :] = mix_magnitude[0:512, source_length - 64:source_length]\n",
        "        output = models(torch.from_numpy(input).to(device))[-1].data.cpu().numpy()  \n",
        "        length = source_length - start_ind - 16\n",
        "        predicts_left[:, start_ind + 16:source_length] = output[0, 0, :, 64 - length:64]\n",
        "        predicts_right[:, start_ind + 16:source_length] = output[0, 1, :, 64 - length:64]\n",
        "        \n",
        "        predicts_left =np.nan_to_num(predicts_left)\n",
        "        predicts_right =np.nan_to_num(predicts_right)\n",
        "        predicts_left[np.where(predicts_left < 0)] = 0\n",
        "        predicts_right[np.where(predicts_right < 0)] = 0\n",
        "        predicts_left = predicts_left * mix_magnitude[0:512, :] * max_value\n",
        "        predicts_right = predicts_right * mix_magnitude[0:512, :] * max_value\n",
        "        predicts_left_wav = to_wav(predicts_left, mix_phase[0:512, :])\n",
        "        predicts_right_wav = to_wav(predicts_right, mix_phase[0:512, :])\n",
        "        predicts_left_wav = librosa.resample(predicts_left_wav, 8000, 16000)\n",
        "        predicts_right_wav = librosa.resample(predicts_right_wav, 8000, 16000)\n",
        "        sdr, sir, sar, lens = bss_eval(mix, left, right, predicts_left_wav,\n",
        "                                              predicts_right_wav)\n",
        "        length = length + lens\n",
        "        gnsdr = gnsdr + sdr * lens\n",
        "        gsir = gsir + sir * lens\n",
        "        gsar = gsar + sar * lens\n",
        "        cnt += 1\n",
        "        if cnt % TEST_STEP == 0:\n",
        "            print('GNSDR: ', gnsdr / length)\n",
        "            print('GSIR: ', gsir / length)\n",
        "            print('GSAR: ', gsar / length)\n",
        "            \n",
        "            \n",
        "        if cnt == TOTAL_TEST:\n",
        "            break"
      ]
    },
    {
      "cell_type": "code",
      "source": [
        "#TOTAL NUMBER OF TRAINABLE PARAMETERS\n",
        "net = get_model()\n",
        "total_params_SH4 = sum(p.numel() for p in net.parameters() if p.requires_grad)\n",
        "print(total_params_SH4)"
      ],
      "metadata": {
        "colab": {
          "base_uri": "https://localhost:8080/"
        },
        "id": "whRe5trt_Nym",
        "outputId": "cbdca975-9627-495f-ce80-15aafedd5e5d"
      },
      "execution_count": null,
      "outputs": [
        {
          "output_type": "stream",
          "name": "stdout",
          "text": [
            "34689752\n"
          ]
        }
      ]
    },
    {
      "cell_type": "code",
      "source": [
        "train()"
      ],
      "metadata": {
        "colab": {
          "base_uri": "https://localhost:8080/"
        },
        "id": "XxtkMsC2fHaO",
        "outputId": "cccdc414-3da0-4cf9-ae5b-83c133e0f152"
      },
      "execution_count": null,
      "outputs": [
        {
          "output_type": "stream",
          "name": "stderr",
          "text": [
            " 10%|█         | 50/500 [00:19<03:44,  2.01it/s]"
          ]
        },
        {
          "output_type": "stream",
          "name": "stdout",
          "text": [
            "loss of 50 is tensor([0.0396], device='cuda:0', grad_fn=<DivBackward0>)\n"
          ]
        },
        {
          "output_type": "stream",
          "name": "stderr",
          "text": [
            " 20%|██        | 100/500 [00:38<03:19,  2.01it/s]"
          ]
        },
        {
          "output_type": "stream",
          "name": "stdout",
          "text": [
            "loss of 100 is 0.030864646658301353\n"
          ]
        },
        {
          "output_type": "stream",
          "name": "stderr",
          "text": [
            " 30%|███       | 150/500 [00:58<02:53,  2.02it/s]"
          ]
        },
        {
          "output_type": "stream",
          "name": "stdout",
          "text": [
            "loss of 150 is 0.027471253648400307\n"
          ]
        },
        {
          "output_type": "stream",
          "name": "stderr",
          "text": [
            " 40%|████      | 200/500 [01:18<02:31,  1.98it/s]"
          ]
        },
        {
          "output_type": "stream",
          "name": "stdout",
          "text": [
            "loss of 200 is 0.02457033284008503\n"
          ]
        },
        {
          "output_type": "stream",
          "name": "stderr",
          "text": [
            " 50%|█████     | 250/500 [01:38<02:05,  2.00it/s]"
          ]
        },
        {
          "output_type": "stream",
          "name": "stdout",
          "text": [
            "loss of 250 is 0.02325206995010376\n"
          ]
        },
        {
          "output_type": "stream",
          "name": "stderr",
          "text": [
            " 60%|██████    | 300/500 [01:58<01:41,  1.97it/s]"
          ]
        },
        {
          "output_type": "stream",
          "name": "stdout",
          "text": [
            "loss of 300 is 0.022393090650439262\n"
          ]
        },
        {
          "output_type": "stream",
          "name": "stderr",
          "text": [
            " 70%|███████   | 350/500 [02:18<01:17,  1.94it/s]"
          ]
        },
        {
          "output_type": "stream",
          "name": "stdout",
          "text": [
            "loss of 350 is 0.02138429880142212\n"
          ]
        },
        {
          "output_type": "stream",
          "name": "stderr",
          "text": [
            " 80%|████████  | 400/500 [02:38<00:51,  1.95it/s]"
          ]
        },
        {
          "output_type": "stream",
          "name": "stdout",
          "text": [
            "loss of 400 is 0.02080450765788555\n"
          ]
        },
        {
          "output_type": "stream",
          "name": "stderr",
          "text": [
            " 90%|█████████ | 450/500 [02:59<00:25,  1.94it/s]"
          ]
        },
        {
          "output_type": "stream",
          "name": "stdout",
          "text": [
            "loss of 450 is 0.020517243072390556\n"
          ]
        },
        {
          "output_type": "stream",
          "name": "stderr",
          "text": [
            "100%|██████████| 500/500 [03:19<00:00,  2.50it/s]"
          ]
        },
        {
          "output_type": "stream",
          "name": "stdout",
          "text": [
            "loss of 500 is 0.021114736795425415\n"
          ]
        },
        {
          "output_type": "stream",
          "name": "stderr",
          "text": [
            "\n"
          ]
        }
      ]
    },
    {
      "cell_type": "code",
      "source": [
        "test()"
      ],
      "metadata": {
        "colab": {
          "base_uri": "https://localhost:8080/"
        },
        "id": "t8E_iv9NfIk4",
        "outputId": "24cea48b-695f-4d7c-fb45-41f0dda6d770"
      },
      "execution_count": null,
      "outputs": [
        {
          "output_type": "stream",
          "name": "stderr",
          "text": [
            "  9%|▊         | 20/230 [00:46<07:53,  2.26s/it]"
          ]
        },
        {
          "output_type": "stream",
          "name": "stdout",
          "text": [
            "GNSDR:  [8.77572573 9.35972856]\n",
            "GSIR:  [13.09098554 14.54126495]\n",
            "GSAR:  [11.25119801 11.35620464]\n"
          ]
        },
        {
          "output_type": "stream",
          "name": "stderr",
          "text": [
            " 17%|█▋        | 40/230 [01:30<07:33,  2.39s/it]"
          ]
        },
        {
          "output_type": "stream",
          "name": "stdout",
          "text": [
            "GNSDR:  [ 9.19988281 10.31610165]\n",
            "GSIR:  [13.44184313 16.37196536]\n",
            "GSAR:  [11.69999143 11.97317494]\n"
          ]
        },
        {
          "output_type": "stream",
          "name": "stderr",
          "text": [
            " 26%|██▌       | 60/230 [02:16<05:45,  2.03s/it]"
          ]
        },
        {
          "output_type": "stream",
          "name": "stdout",
          "text": [
            "GNSDR:  [ 9.66853114 10.40482768]\n",
            "GSIR:  [14.18354908 15.8919944 ]\n",
            "GSAR:  [11.99346434 12.26446479]\n"
          ]
        },
        {
          "output_type": "stream",
          "name": "stderr",
          "text": [
            " 35%|███▍      | 80/230 [03:04<06:39,  2.67s/it]"
          ]
        },
        {
          "output_type": "stream",
          "name": "stdout",
          "text": [
            "GNSDR:  [ 9.27616072 10.01407079]\n",
            "GSIR:  [13.51103944 15.68836142]\n",
            "GSAR:  [11.81366642 11.85461118]\n"
          ]
        },
        {
          "output_type": "stream",
          "name": "stderr",
          "text": [
            " 43%|████▎     | 100/230 [03:49<05:32,  2.56s/it]"
          ]
        },
        {
          "output_type": "stream",
          "name": "stdout",
          "text": [
            "GNSDR:  [9.15603459 9.88720403]\n",
            "GSIR:  [13.27621983 15.70383453]\n",
            "GSAR:  [11.79036806 11.6557938 ]\n"
          ]
        },
        {
          "output_type": "stream",
          "name": "stderr",
          "text": [
            " 52%|█████▏    | 120/230 [04:35<04:09,  2.27s/it]"
          ]
        },
        {
          "output_type": "stream",
          "name": "stdout",
          "text": [
            "GNSDR:  [8.931424   9.58234537]\n",
            "GSIR:  [12.98708057 15.2968552 ]\n",
            "GSAR:  [11.62044893 11.41389723]\n"
          ]
        },
        {
          "output_type": "stream",
          "name": "stderr",
          "text": [
            " 61%|██████    | 140/230 [05:26<03:25,  2.29s/it]"
          ]
        },
        {
          "output_type": "stream",
          "name": "stdout",
          "text": [
            "GNSDR:  [8.69864192 9.42148711]\n",
            "GSIR:  [12.58665004 15.39792937]\n",
            "GSAR:  [11.52714384 11.16580782]\n"
          ]
        },
        {
          "output_type": "stream",
          "name": "stderr",
          "text": [
            " 70%|██████▉   | 160/230 [06:14<02:44,  2.34s/it]"
          ]
        },
        {
          "output_type": "stream",
          "name": "stdout",
          "text": [
            "GNSDR:  [8.37893851 9.06931373]\n",
            "GSIR:  [12.13934455 15.18427573]\n",
            "GSAR:  [11.33023557 10.75796063]\n"
          ]
        },
        {
          "output_type": "stream",
          "name": "stderr",
          "text": [
            " 78%|███████▊  | 180/230 [07:00<01:50,  2.20s/it]"
          ]
        },
        {
          "output_type": "stream",
          "name": "stdout",
          "text": [
            "GNSDR:  [8.21373037 8.89284431]\n",
            "GSIR:  [11.91034135 15.04945253]\n",
            "GSAR:  [11.22728797 10.58347742]\n"
          ]
        },
        {
          "output_type": "stream",
          "name": "stderr",
          "text": [
            " 87%|████████▋ | 200/230 [07:50<01:11,  2.40s/it]"
          ]
        },
        {
          "output_type": "stream",
          "name": "stdout",
          "text": [
            "GNSDR:  [8.13190496 8.81071897]\n",
            "GSIR:  [11.86577725 14.99643082]\n",
            "GSAR:  [11.10396898 10.47688817]\n"
          ]
        },
        {
          "output_type": "stream",
          "name": "stderr",
          "text": [
            " 96%|█████████▌| 220/230 [08:34<00:19,  1.97s/it]"
          ]
        },
        {
          "output_type": "stream",
          "name": "stdout",
          "text": [
            "GNSDR:  [8.0546265  8.74925667]\n",
            "GSIR:  [11.76520215 14.95189058]\n",
            "GSAR:  [11.04173583 10.40547879]\n"
          ]
        },
        {
          "output_type": "stream",
          "name": "stderr",
          "text": [
            "100%|██████████| 230/230 [08:56<00:00,  2.33s/it]\n"
          ]
        }
      ]
    },
    {
      "cell_type": "markdown",
      "source": [
        "#CNN\n",
        "\n"
      ],
      "metadata": {
        "id": "YYa9fKahmEhP"
      }
    },
    {
      "cell_type": "code",
      "source": [
        "class CNN(nn.Module):\n",
        "  def __init__(self):\n",
        "        super(CNN, self).__init__()\n",
        "        self.model = nn.Sequential(\n",
        "                Conv(1, 64, kernel_size=7, stride=1),\n",
        "                Conv(64, 128), \n",
        "                Conv(128, 128),\n",
        "                Conv(128, 256),\n",
        "                Conv(256, 2)\n",
        "                )\n",
        "\n",
        "  def forward(self, x):\n",
        "      return self.model(x)\n",
        "\n",
        "def get_model(): # Function to create an object of class model\n",
        "    return CNN()"
      ],
      "metadata": {
        "id": "hKOBwQGdc-Iw"
      },
      "execution_count": null,
      "outputs": []
    },
    {
      "cell_type": "code",
      "source": [
        "MAX_ITERATIONS = 500\n",
        "device = torch.device(\"cuda:0\" if torch.cuda.is_available() else \"cpu\")\n",
        "\n",
        "def train():\n",
        "    net = get_model()\n",
        "    net.to(device)\n",
        "    training_data, training_indices_array = get_train_data()\n",
        "    loss_s = torch.empty(1).to(device)\n",
        "    optimiser = torch.optim.Adam(net.parameters(), lr=0.001)\n",
        "    for i in tqdm.tqdm(range(ITERATIONS)):\n",
        "        # declaring input and output tensors\n",
        "        input = torch.empty(BATCH_SIZE, 1, 512, 64)\n",
        "        output = torch.empty(BATCH_SIZE, 2, 512, 64)\n",
        "        \n",
        "        for j in range(BATCH_SIZE):\n",
        "            indexing, starting_index = training_indices_array[np.random.randint(len(training_indices_array))]  \n",
        "            left_mag, right_mag, mixed_mag = training_data[indexing]\n",
        "            input[j, 0, :, :] = torch.from_numpy(mixed_mag[:512, starting_index:starting_index + 64])\n",
        "            output[j, 0, :, :] = torch.from_numpy(left_mag[:512, starting_index:starting_index + 64])\n",
        "            output[j, 1, :, :] = torch.from_numpy(right_mag[:512, starting_index:starting_index + 64])\n",
        "            input = input.to(device)\n",
        "            output = output.to(device)\n",
        "        optimiser.zero_grad()\n",
        "        predicted = net(input).to(device)\n",
        " \n",
        "        loss = sum(torch.mean(torch.abs(predicted[x].mul(input) - output)) for x in range(4))\n",
        "        if loss>=0:\n",
        "          loss.backward()\n",
        "          loss_s += loss\n",
        "          optimiser.step()\n",
        "        if (i + 1) % TRAIN_SAVE_POINT == 0:\n",
        "            torch.save(net.state_dict(), 'ModelCNN/checkpoint_{}.pt'.format(i + 1))\n",
        "            print( \"loss is {}\".format(loss_s / TRAIN_SAVE_POINT,))\n",
        "            loss_s = 0\n",
        "def test(model='ModelCNN/checkpoint_500.pt'):\n",
        "    models = get_model()\n",
        "    models.load_state_dict(torch.load(model),strict=False)\n",
        "    models.to(device)\n",
        "    input = np.empty((BATCH_SIZE, 1, 512, 64), dtype=np.float32)\n",
        "    length = 0.\n",
        "    cnt = 0\n",
        "    gnsdr = 0.\n",
        "    gsir = 0.\n",
        "    gsar = 0.\n",
        "    for left, right, mix, left_magnitude, right_magnitude, mix_magnitude, max_value, mix_phase in data_generator(train_d,train=False):\n",
        "        source_length = mix_magnitude.shape[-1]\n",
        "        start_ind = 0\n",
        "        predicts_left = np.zeros((512, source_length), dtype=np.float32)\n",
        "        predicts_right = np.zeros((512, source_length), dtype=np.float32)\n",
        "        \n",
        "        start = time.time()\n",
        "        while start_ind + 64 < source_length:\n",
        "            \n",
        "            if start_ind and start_ind + (BATCH_SIZE - 1) * 32 + 64 < source_length:\n",
        "                for i in range(BATCH_SIZE):\n",
        "                    input[i, 0, :, :] = mix_magnitude[0:512, start_ind + i * 32:start_ind + i * 32 + 64]\n",
        "                output = models(torch.from_numpy(input).to(device))[-1].data.cpu().numpy() \n",
        "                for i in range(BATCH_SIZE):\n",
        "                    predicts_left[:, start_ind + i * 32 + 16: start_ind + i * 32 + 48] = output[i, 0, :, 16:48]\n",
        "                    predicts_right[:, start_ind + i * 32 + 16: start_ind + i * 32 + 48] = output[i, 1, :, 16:48]\n",
        "                start_ind += BATCH_SIZE * 32\n",
        "            else:\n",
        "                input[0, 0, :, :] = mix_magnitude[0:512, start_ind:start_ind + 64]\n",
        "                output = models(torch.from_numpy(input).to(device))[-1].data.cpu().numpy() \n",
        "                if start_ind == 0:\n",
        "                    predicts_left[:, 0:64] = output[0, 0, :, :]\n",
        "                    predicts_right[:, 0:64] = output[0, 1, :, :]\n",
        "                else:\n",
        "                    predicts_left[:, start_ind + 16: start_ind + 48] = output[0, 0, :, 16:48]\n",
        "                    predicts_right[:, start_ind + 16:start_ind + 48] = output[0, 1, :, 16:48]\n",
        "                start_ind += 32\n",
        "        input[0, 0, :, :] = mix_magnitude[0:512, source_length - 64:source_length]\n",
        "        output = models(torch.from_numpy(input).to(device))[-1].data.cpu().numpy()  \n",
        "        length = source_length - start_ind - 16\n",
        "        predicts_left[:, start_ind + 16:source_length] = output[0, 0, :, 64 - length:64]\n",
        "        predicts_right[:, start_ind + 16:source_length] = output[0, 1, :, 64 - length:64]\n",
        "        \n",
        "        predicts_left =np.nan_to_num(predicts_left)\n",
        "        predicts_right =np.nan_to_num(predicts_right)\n",
        "        predicts_left[np.where(predicts_left < 0)] = 0\n",
        "        predicts_right[np.where(predicts_right < 0)] = 0\n",
        "        predicts_left = predicts_left * mix_magnitude[0:512, :] * max_value\n",
        "        predicts_right = predicts_right * mix_magnitude[0:512, :] * max_value\n",
        "        predicts_left_wav = to_wav(predicts_left, mix_phase[0:512, :])\n",
        "        predicts_right_wav = to_wav(predicts_right, mix_phase[0:512, :])\n",
        "        predicts_left_wav = librosa.resample(predicts_left_wav, 8000, 16000)\n",
        "        predicts_right_wav = librosa.resample(predicts_right_wav, 8000, 16000)\n",
        "        sdr, sir, sar, lens = bss_eval(mix, left, right, predicts_left_wav,\n",
        "                                              predicts_right_wav)\n",
        "        length = length + lens\n",
        "        gnsdr = gnsdr + sdr * lens\n",
        "        gsir = gsir + sir * lens\n",
        "        gsar = gsar + sar * lens\n",
        "        cnt += 1\n",
        "        if cnt % TEST_STEP == 0:\n",
        "            print('GNSDR: ', gnsdr / length)\n",
        "            print('GSIR: ', gsir / length)\n",
        "            print('GSAR: ', gsar / length)\n",
        "            \n",
        "            \n",
        "        if cnt == TOTAL_TEST:\n",
        "            break\n",
        "\n",
        "os.mkdir('ModelCNN')"
      ],
      "metadata": {
        "id": "25gtZfh9mJCQ"
      },
      "execution_count": null,
      "outputs": []
    },
    {
      "cell_type": "code",
      "source": [
        "#TOTAL NUMBER OF TRAINABLE PARAMETERS\n",
        "net = get_model()\n",
        "total_params_CNN = sum(p.numel() for p in net.parameters() if p.requires_grad)\n",
        "print(total_params_CNN)"
      ],
      "metadata": {
        "id": "uj4HnIgG_YrU"
      },
      "execution_count": null,
      "outputs": []
    },
    {
      "cell_type": "code",
      "source": [
        "train()"
      ],
      "metadata": {
        "id": "BMNv7HkgfakY",
        "colab": {
          "base_uri": "https://localhost:8080/"
        },
        "outputId": "f46aec5a-906b-41b8-df45-894516f30349"
      },
      "execution_count": null,
      "outputs": [
        {
          "output_type": "stream",
          "name": "stderr",
          "text": [
            " 10%|█         | 51/500 [00:22<03:09,  2.37it/s]"
          ]
        },
        {
          "output_type": "stream",
          "name": "stdout",
          "text": [
            "loss of 50 is tensor([5.0581e+17], device='cuda:0', grad_fn=<DivBackward0>)\n"
          ]
        },
        {
          "output_type": "stream",
          "name": "stderr",
          "text": [
            " 20%|██        | 101/500 [00:44<02:45,  2.41it/s]"
          ]
        },
        {
          "output_type": "stream",
          "name": "stdout",
          "text": [
            "loss of 100 is 0.04187924414873123\n"
          ]
        },
        {
          "output_type": "stream",
          "name": "stderr",
          "text": [
            " 30%|███       | 151/500 [01:05<02:25,  2.40it/s]"
          ]
        },
        {
          "output_type": "stream",
          "name": "stdout",
          "text": [
            "loss of 150 is 0.040555041283369064\n"
          ]
        },
        {
          "output_type": "stream",
          "name": "stderr",
          "text": [
            " 40%|████      | 201/500 [01:27<02:03,  2.42it/s]"
          ]
        },
        {
          "output_type": "stream",
          "name": "stdout",
          "text": [
            "loss of 200 is 0.03867791220545769\n"
          ]
        },
        {
          "output_type": "stream",
          "name": "stderr",
          "text": [
            " 50%|█████     | 251/500 [01:49<01:43,  2.41it/s]"
          ]
        },
        {
          "output_type": "stream",
          "name": "stdout",
          "text": [
            "loss of 250 is 0.040079522877931595\n"
          ]
        },
        {
          "output_type": "stream",
          "name": "stderr",
          "text": [
            " 60%|██████    | 301/500 [02:10<01:22,  2.40it/s]"
          ]
        },
        {
          "output_type": "stream",
          "name": "stdout",
          "text": [
            "loss of 300 is 0.03759855031967163\n"
          ]
        },
        {
          "output_type": "stream",
          "name": "stderr",
          "text": [
            " 70%|███████   | 351/500 [02:32<01:01,  2.42it/s]"
          ]
        },
        {
          "output_type": "stream",
          "name": "stdout",
          "text": [
            "loss of 350 is 0.03719960153102875\n"
          ]
        },
        {
          "output_type": "stream",
          "name": "stderr",
          "text": [
            " 80%|████████  | 401/500 [02:54<00:40,  2.43it/s]"
          ]
        },
        {
          "output_type": "stream",
          "name": "stdout",
          "text": [
            "loss of 400 is 0.03653066232800484\n"
          ]
        },
        {
          "output_type": "stream",
          "name": "stderr",
          "text": [
            " 90%|█████████ | 451/500 [03:15<00:20,  2.42it/s]"
          ]
        },
        {
          "output_type": "stream",
          "name": "stdout",
          "text": [
            "loss of 450 is 0.037184394896030426\n"
          ]
        },
        {
          "output_type": "stream",
          "name": "stderr",
          "text": [
            "100%|██████████| 500/500 [03:37<00:00,  2.30it/s]"
          ]
        },
        {
          "output_type": "stream",
          "name": "stdout",
          "text": [
            "loss of 500 is 0.03388440981507301\n"
          ]
        },
        {
          "output_type": "stream",
          "name": "stderr",
          "text": [
            "\n"
          ]
        }
      ]
    },
    {
      "cell_type": "code",
      "source": [
        "test()"
      ],
      "metadata": {
        "colab": {
          "base_uri": "https://localhost:8080/"
        },
        "id": "yc9YOdEefbYh",
        "outputId": "f862d6d3-33bb-4a87-9799-833880e61891"
      },
      "execution_count": null,
      "outputs": [
        {
          "output_type": "stream",
          "name": "stderr",
          "text": [
            "\n",
            "  0%|          | 0/230 [00:00<?, ?it/s]\u001b[A\n",
            "  0%|          | 1/230 [00:02<11:21,  2.98s/it]\u001b[A\n",
            "  1%|          | 2/230 [00:05<10:31,  2.77s/it]\u001b[A\n",
            "  1%|▏         | 3/230 [00:08<10:15,  2.71s/it]\u001b[A\n",
            "  2%|▏         | 4/230 [00:12<11:56,  3.17s/it]\u001b[A\n",
            "  2%|▏         | 5/230 [00:16<13:25,  3.58s/it]\u001b[A\n",
            "  3%|▎         | 6/230 [00:20<14:14,  3.82s/it]\u001b[A\n",
            "  3%|▎         | 7/230 [00:23<13:05,  3.52s/it]\u001b[A\n",
            "  3%|▎         | 8/230 [00:26<12:24,  3.35s/it]\u001b[A\n",
            "  4%|▍         | 9/230 [00:29<11:34,  3.14s/it]\u001b[A\n",
            "  4%|▍         | 10/230 [00:32<11:15,  3.07s/it]\u001b[A\n",
            "  5%|▍         | 11/230 [00:36<12:09,  3.33s/it]\u001b[A\n",
            "  5%|▌         | 12/230 [00:39<11:40,  3.21s/it]\u001b[A\n",
            "  6%|▌         | 13/230 [00:42<12:22,  3.42s/it]\u001b[A\n",
            "  6%|▌         | 14/230 [00:45<11:39,  3.24s/it]\u001b[A\n",
            "  7%|▋         | 15/230 [00:48<11:13,  3.13s/it]\u001b[A\n",
            "  7%|▋         | 16/230 [00:51<10:34,  2.97s/it]\u001b[A\n",
            "  7%|▋         | 17/230 [00:54<10:30,  2.96s/it]\u001b[A\n",
            "  8%|▊         | 18/230 [00:56<09:59,  2.83s/it]\u001b[A\n",
            "  8%|▊         | 19/230 [01:00<11:07,  3.16s/it]\u001b[A\n",
            "  9%|▊         | 20/230 [01:04<11:53,  3.40s/it]\u001b[A"
          ]
        },
        {
          "output_type": "stream",
          "name": "stdout",
          "text": [
            "GNSDR:  [-5.87881972  0.47665181]\n",
            "GSIR:  [-0.83845632  3.30814261]\n",
            "GSAR:  [-0.25534847  5.94358982]\n"
          ]
        },
        {
          "output_type": "stream",
          "name": "stderr",
          "text": [
            "\n",
            "  9%|▉         | 21/230 [01:07<10:56,  3.14s/it]\u001b[A\n",
            " 10%|▉         | 22/230 [01:11<11:40,  3.37s/it]\u001b[A\n",
            " 10%|█         | 23/230 [01:13<11:05,  3.22s/it]\u001b[A\n",
            " 10%|█         | 24/230 [01:16<10:42,  3.12s/it]\u001b[A\n",
            " 11%|█         | 25/230 [01:19<10:23,  3.04s/it]\u001b[A\n",
            " 11%|█▏        | 26/230 [01:22<10:11,  3.00s/it]\u001b[A\n",
            " 12%|█▏        | 27/230 [01:26<11:26,  3.38s/it]\u001b[A\n",
            " 12%|█▏        | 28/230 [01:29<10:37,  3.16s/it]\u001b[A\n",
            " 13%|█▎        | 29/230 [01:32<10:15,  3.06s/it]\u001b[A\n",
            " 13%|█▎        | 30/230 [01:34<08:59,  2.70s/it]\u001b[A\n",
            " 13%|█▎        | 31/230 [01:37<09:06,  2.75s/it]\u001b[A\n",
            " 14%|█▍        | 32/230 [01:40<10:08,  3.08s/it]\u001b[A\n",
            " 14%|█▍        | 33/230 [01:43<10:01,  3.05s/it]\u001b[A\n",
            " 15%|█▍        | 34/230 [01:47<10:36,  3.25s/it]\u001b[A\n",
            " 15%|█▌        | 35/230 [01:51<11:10,  3.44s/it]\u001b[A\n",
            " 16%|█▌        | 36/230 [01:54<10:16,  3.18s/it]\u001b[A\n",
            " 16%|█▌        | 37/230 [01:56<09:38,  3.00s/it]\u001b[A\n",
            " 17%|█▋        | 38/230 [01:59<09:26,  2.95s/it]\u001b[A\n",
            " 17%|█▋        | 39/230 [02:01<08:55,  2.80s/it]\u001b[A\n",
            " 17%|█▋        | 40/230 [02:04<08:39,  2.73s/it]\u001b[A"
          ]
        },
        {
          "output_type": "stream",
          "name": "stdout",
          "text": [
            "GNSDR:  [-5.5543744   0.08443792]\n",
            "GSIR:  [-0.27965419  3.05156787]\n",
            "GSAR:  [-0.17814215  5.73585023]\n"
          ]
        },
        {
          "output_type": "stream",
          "name": "stderr",
          "text": [
            "\n",
            " 18%|█▊        | 41/230 [02:07<08:43,  2.77s/it]\u001b[A\n",
            " 18%|█▊        | 42/230 [02:09<08:28,  2.70s/it]\u001b[A\n",
            " 19%|█▊        | 43/230 [02:14<09:48,  3.15s/it]\u001b[A\n",
            " 19%|█▉        | 44/230 [02:16<09:11,  2.97s/it]\u001b[A\n",
            " 20%|█▉        | 45/230 [02:20<10:17,  3.34s/it]\u001b[A\n",
            " 20%|██        | 46/230 [02:24<10:59,  3.58s/it]\u001b[A\n",
            " 20%|██        | 47/230 [02:29<11:24,  3.74s/it]\u001b[A\n",
            " 21%|██        | 48/230 [02:33<11:41,  3.85s/it]\u001b[A\n",
            " 21%|██▏       | 49/230 [02:35<10:24,  3.45s/it]\u001b[A\n",
            " 22%|██▏       | 50/230 [02:38<09:29,  3.16s/it]\u001b[A\n",
            " 22%|██▏       | 51/230 [02:41<10:00,  3.35s/it]\u001b[A\n",
            " 23%|██▎       | 52/230 [02:45<09:40,  3.26s/it]\u001b[A\n",
            " 23%|██▎       | 53/230 [02:49<10:26,  3.54s/it]\u001b[A\n",
            " 23%|██▎       | 54/230 [02:51<09:25,  3.21s/it]\u001b[A\n",
            " 24%|██▍       | 55/230 [02:54<08:41,  2.98s/it]\u001b[A\n",
            " 24%|██▍       | 56/230 [02:56<08:11,  2.82s/it]\u001b[A\n",
            " 25%|██▍       | 57/230 [02:59<08:13,  2.85s/it]\u001b[A\n",
            " 25%|██▌       | 58/230 [03:02<07:56,  2.77s/it]\u001b[A\n",
            " 26%|██▌       | 59/230 [03:06<09:01,  3.17s/it]\u001b[A\n",
            " 26%|██▌       | 60/230 [03:08<08:24,  2.97s/it]\u001b[A"
          ]
        },
        {
          "output_type": "stream",
          "name": "stdout",
          "text": [
            "GNSDR:  [-6.0262153   0.68109619]\n",
            "GSIR:  [-1.03543039  3.88728926]\n",
            "GSAR:  [-0.14308602  5.81004849]\n"
          ]
        },
        {
          "output_type": "stream",
          "name": "stderr",
          "text": [
            "\n",
            " 27%|██▋       | 61/230 [03:12<09:18,  3.31s/it]\u001b[A\n",
            " 27%|██▋       | 62/230 [03:15<08:35,  3.07s/it]\u001b[A\n",
            " 27%|██▋       | 63/230 [03:17<08:05,  2.91s/it]\u001b[A\n",
            " 28%|██▊       | 64/230 [03:21<08:50,  3.19s/it]\u001b[A\n",
            " 28%|██▊       | 65/230 [03:24<08:08,  2.96s/it]\u001b[A\n",
            " 29%|██▊       | 66/230 [03:26<07:41,  2.81s/it]\u001b[A\n",
            " 29%|██▉       | 67/230 [03:30<08:47,  3.24s/it]\u001b[A\n",
            " 30%|██▉       | 68/230 [03:34<09:26,  3.50s/it]\u001b[A\n",
            " 30%|███       | 69/230 [03:37<08:52,  3.31s/it]\u001b[A\n",
            " 30%|███       | 70/230 [03:40<08:17,  3.11s/it]\u001b[A\n",
            " 31%|███       | 71/230 [03:43<08:08,  3.07s/it]\u001b[A\n",
            " 31%|███▏      | 72/230 [03:47<08:43,  3.31s/it]\u001b[A\n",
            " 32%|███▏      | 73/230 [03:49<08:07,  3.10s/it]\u001b[A\n",
            " 32%|███▏      | 74/230 [03:53<08:40,  3.33s/it]\u001b[A\n",
            " 33%|███▎      | 75/230 [03:56<08:21,  3.24s/it]\u001b[A\n",
            " 33%|███▎      | 76/230 [03:59<08:06,  3.16s/it]\u001b[A\n",
            " 33%|███▎      | 77/230 [04:02<07:37,  2.99s/it]\u001b[A\n",
            " 34%|███▍      | 78/230 [04:06<08:15,  3.26s/it]\u001b[A\n",
            " 34%|███▍      | 79/230 [04:09<08:00,  3.18s/it]\u001b[A\n",
            " 35%|███▍      | 80/230 [04:12<07:46,  3.11s/it]\u001b[A"
          ]
        },
        {
          "output_type": "stream",
          "name": "stdout",
          "text": [
            "GNSDR:  [-6.05540204  0.97843022]\n",
            "GSIR:  [-1.16653897  4.3620058 ]\n",
            "GSAR:  [0.04702102 5.82263182]\n"
          ]
        },
        {
          "output_type": "stream",
          "name": "stderr",
          "text": [
            "\n",
            " 35%|███▌      | 81/230 [04:16<08:17,  3.34s/it]\u001b[A\n",
            " 36%|███▌      | 82/230 [04:18<07:57,  3.22s/it]\u001b[A\n",
            " 36%|███▌      | 83/230 [04:23<08:33,  3.49s/it]\u001b[A\n",
            " 37%|███▋      | 84/230 [04:26<08:46,  3.61s/it]\u001b[A\n",
            " 37%|███▋      | 85/230 [04:29<08:00,  3.32s/it]\u001b[A\n",
            " 37%|███▋      | 86/230 [04:32<07:28,  3.11s/it]\u001b[A\n",
            " 38%|███▊      | 87/230 [04:34<07:05,  2.98s/it]\u001b[A\n",
            " 38%|███▊      | 88/230 [04:38<07:41,  3.25s/it]\u001b[A\n",
            " 39%|███▊      | 89/230 [04:41<07:30,  3.19s/it]\u001b[A\n",
            " 39%|███▉      | 90/230 [04:44<07:18,  3.13s/it]\u001b[A\n",
            " 40%|███▉      | 91/230 [04:48<07:44,  3.34s/it]\u001b[A\n",
            " 40%|████      | 92/230 [04:52<08:00,  3.48s/it]\u001b[A\n",
            " 40%|████      | 93/230 [04:56<08:26,  3.70s/it]\u001b[A\n",
            " 41%|████      | 94/230 [04:59<07:37,  3.37s/it]\u001b[A\n",
            " 41%|████▏     | 95/230 [05:01<07:03,  3.14s/it]\u001b[A\n",
            " 42%|████▏     | 96/230 [05:04<06:50,  3.06s/it]\u001b[A\n",
            " 42%|████▏     | 97/230 [05:07<06:32,  2.95s/it]\u001b[A\n",
            " 43%|████▎     | 98/230 [05:11<07:23,  3.36s/it]\u001b[A\n",
            " 43%|████▎     | 99/230 [05:15<07:53,  3.62s/it]\u001b[A\n",
            " 43%|████▎     | 100/230 [05:17<06:47,  3.13s/it]\u001b[A"
          ]
        },
        {
          "output_type": "stream",
          "name": "stdout",
          "text": [
            "GNSDR:  [-6.31055748  1.18041206]\n",
            "GSIR:  [-1.63136613  4.6318743 ]\n",
            "GSAR:  [0.19871622 5.86222172]\n"
          ]
        },
        {
          "output_type": "stream",
          "name": "stderr",
          "text": [
            "\n",
            " 44%|████▍     | 101/230 [05:22<07:24,  3.45s/it]\u001b[A\n",
            " 44%|████▍     | 102/230 [05:24<06:45,  3.17s/it]\u001b[A\n",
            " 45%|████▍     | 103/230 [05:27<06:19,  2.99s/it]\u001b[A\n",
            " 45%|████▌     | 104/230 [05:29<05:59,  2.85s/it]\u001b[A\n",
            " 46%|████▌     | 105/230 [05:33<06:32,  3.14s/it]\u001b[A\n",
            " 46%|████▌     | 106/230 [05:37<07:14,  3.51s/it]\u001b[A\n",
            " 47%|████▋     | 107/230 [05:42<07:37,  3.72s/it]\u001b[A\n",
            " 47%|████▋     | 108/230 [05:44<06:49,  3.36s/it]\u001b[A\n",
            " 47%|████▋     | 109/230 [05:47<06:28,  3.21s/it]\u001b[A\n",
            " 48%|████▊     | 110/230 [05:50<06:01,  3.01s/it]\u001b[A\n",
            " 48%|████▊     | 111/230 [05:54<06:40,  3.36s/it]\u001b[A\n",
            " 49%|████▊     | 112/230 [05:56<06:06,  3.11s/it]\u001b[A\n",
            " 49%|████▉     | 113/230 [05:59<05:54,  3.03s/it]\u001b[A\n",
            " 50%|████▉     | 114/230 [06:03<06:33,  3.39s/it]\u001b[A\n",
            " 50%|█████     | 115/230 [06:06<06:12,  3.24s/it]\u001b[A\n",
            " 50%|█████     | 116/230 [06:09<05:57,  3.14s/it]\u001b[A\n",
            " 51%|█████     | 117/230 [06:13<06:18,  3.35s/it]\u001b[A\n",
            " 51%|█████▏    | 118/230 [06:16<06:00,  3.22s/it]\u001b[A\n",
            " 52%|█████▏    | 119/230 [06:18<05:35,  3.02s/it]\u001b[A\n",
            " 52%|█████▏    | 120/230 [06:21<05:27,  2.98s/it]\u001b[A"
          ]
        },
        {
          "output_type": "stream",
          "name": "stdout",
          "text": [
            "GNSDR:  [-6.35204717  1.07761307]\n",
            "GSIR:  [-1.97442281  4.81791182]\n",
            "GSAR:  [0.69536917 5.53295237]\n"
          ]
        },
        {
          "output_type": "stream",
          "name": "stderr",
          "text": [
            "\n",
            " 53%|█████▎    | 121/230 [06:24<05:08,  2.83s/it]\u001b[A\n",
            " 53%|█████▎    | 122/230 [06:28<05:42,  3.17s/it]\u001b[A\n",
            " 53%|█████▎    | 123/230 [06:31<05:30,  3.09s/it]\u001b[A\n",
            " 54%|█████▍    | 124/230 [06:34<05:18,  3.00s/it]\u001b[A\n",
            " 54%|█████▍    | 125/230 [06:36<05:12,  2.97s/it]\u001b[A\n",
            " 55%|█████▍    | 126/230 [06:39<04:53,  2.83s/it]\u001b[A\n",
            " 55%|█████▌    | 127/230 [06:43<05:34,  3.25s/it]\u001b[A\n",
            " 56%|█████▌    | 128/230 [06:46<05:21,  3.16s/it]\u001b[A\n",
            " 56%|█████▌    | 129/230 [06:49<04:58,  2.96s/it]\u001b[A\n",
            " 57%|█████▋    | 130/230 [06:51<04:41,  2.82s/it]\u001b[A\n",
            " 57%|█████▋    | 131/230 [06:55<05:08,  3.12s/it]\u001b[A\n",
            " 57%|█████▋    | 132/230 [06:59<05:29,  3.36s/it]\u001b[A\n",
            " 58%|█████▊    | 133/230 [07:01<05:00,  3.10s/it]\u001b[A\n",
            " 58%|█████▊    | 134/230 [07:05<05:18,  3.32s/it]\u001b[A\n",
            " 59%|█████▊    | 135/230 [07:08<04:51,  3.06s/it]\u001b[A\n",
            " 59%|█████▉    | 136/230 [07:11<04:44,  3.03s/it]\u001b[A\n",
            " 60%|█████▉    | 137/230 [07:13<04:27,  2.88s/it]\u001b[A\n",
            " 60%|██████    | 138/230 [07:17<04:52,  3.18s/it]\u001b[A\n",
            " 60%|██████    | 139/230 [07:21<05:17,  3.48s/it]\u001b[A\n",
            " 61%|██████    | 140/230 [07:24<04:45,  3.17s/it]\u001b[A"
          ]
        },
        {
          "output_type": "stream",
          "name": "stdout",
          "text": [
            "GNSDR:  [-6.35106487  0.96798518]\n",
            "GSIR:  [-2.16544579  4.98588949]\n",
            "GSAR:  [1.00192306 5.23244392]\n"
          ]
        },
        {
          "output_type": "stream",
          "name": "stderr",
          "text": [
            "\n",
            " 61%|██████▏   | 141/230 [07:27<04:58,  3.36s/it]\u001b[A\n",
            " 62%|██████▏   | 142/230 [07:32<05:18,  3.62s/it]\u001b[A\n",
            " 62%|██████▏   | 143/230 [07:35<05:21,  3.69s/it]\u001b[A\n",
            " 63%|██████▎   | 144/230 [07:38<04:48,  3.36s/it]\u001b[A\n",
            " 63%|██████▎   | 145/230 [07:41<04:32,  3.20s/it]\u001b[A\n",
            " 63%|██████▎   | 146/230 [07:45<04:54,  3.50s/it]\u001b[A\n",
            " 64%|██████▍   | 147/230 [07:48<04:25,  3.20s/it]\u001b[A\n",
            " 64%|██████▍   | 148/230 [07:52<04:41,  3.43s/it]\u001b[A\n",
            " 65%|██████▍   | 149/230 [07:56<04:56,  3.66s/it]\u001b[A\n",
            " 65%|██████▌   | 150/230 [07:58<04:27,  3.34s/it]\u001b[A\n",
            " 66%|██████▌   | 151/230 [08:02<04:35,  3.49s/it]\u001b[A\n",
            " 66%|██████▌   | 152/230 [08:05<04:13,  3.25s/it]\u001b[A\n",
            " 67%|██████▋   | 153/230 [08:08<04:02,  3.15s/it]\u001b[A\n",
            " 67%|██████▋   | 154/230 [08:12<04:15,  3.36s/it]\u001b[A\n",
            " 67%|██████▋   | 155/230 [08:16<04:30,  3.61s/it]\u001b[A\n",
            " 68%|██████▊   | 156/230 [08:19<04:12,  3.42s/it]\u001b[A\n",
            " 68%|██████▊   | 157/230 [08:21<03:48,  3.13s/it]\u001b[A\n",
            " 69%|██████▊   | 158/230 [08:25<04:01,  3.36s/it]\u001b[A\n",
            " 69%|██████▉   | 159/230 [08:28<03:41,  3.11s/it]\u001b[A\n",
            " 70%|██████▉   | 160/230 [08:30<03:24,  2.92s/it]\u001b[A"
          ]
        },
        {
          "output_type": "stream",
          "name": "stdout",
          "text": [
            "GNSDR:  [-6.35884967  0.83323741]\n",
            "GSIR:  [-2.13854785  4.80789913]\n",
            "GSAR:  [0.93055088 5.1600469 ]\n"
          ]
        },
        {
          "output_type": "stream",
          "name": "stderr",
          "text": [
            "\n",
            " 70%|███████   | 161/230 [08:34<03:48,  3.32s/it]\u001b[A\n",
            " 70%|███████   | 162/230 [08:37<03:27,  3.05s/it]\u001b[A\n",
            " 71%|███████   | 163/230 [08:41<03:41,  3.30s/it]\u001b[A\n",
            " 71%|███████▏  | 164/230 [08:44<03:28,  3.16s/it]\u001b[A\n",
            " 72%|███████▏  | 165/230 [08:48<03:45,  3.48s/it]\u001b[A\n",
            " 72%|███████▏  | 166/230 [08:52<03:59,  3.74s/it]\u001b[A\n",
            " 73%|███████▎  | 167/230 [08:55<03:32,  3.37s/it]\u001b[A\n",
            " 73%|███████▎  | 168/230 [08:57<03:19,  3.21s/it]\u001b[A\n",
            " 73%|███████▎  | 169/230 [09:02<03:33,  3.49s/it]\u001b[A\n",
            " 74%|███████▍  | 170/230 [09:06<03:41,  3.70s/it]\u001b[A\n",
            " 74%|███████▍  | 171/230 [09:10<03:41,  3.75s/it]\u001b[A\n",
            " 75%|███████▍  | 172/230 [09:14<03:39,  3.79s/it]\u001b[A\n",
            " 75%|███████▌  | 173/230 [09:16<03:13,  3.39s/it]\u001b[A\n",
            " 76%|███████▌  | 174/230 [09:20<03:18,  3.55s/it]\u001b[A\n",
            " 76%|███████▌  | 175/230 [09:23<03:02,  3.32s/it]\u001b[A\n",
            " 77%|███████▋  | 176/230 [09:25<02:44,  3.05s/it]\u001b[A\n",
            " 77%|███████▋  | 177/230 [09:28<02:39,  3.01s/it]\u001b[A\n",
            " 77%|███████▋  | 178/230 [09:31<02:34,  2.96s/it]\u001b[A\n",
            " 78%|███████▊  | 179/230 [09:34<02:29,  2.93s/it]\u001b[A\n",
            " 78%|███████▊  | 180/230 [09:36<02:21,  2.84s/it]\u001b[A"
          ]
        },
        {
          "output_type": "stream",
          "name": "stdout",
          "text": [
            "GNSDR:  [-6.31167148  0.73460041]\n",
            "GSIR:  [-2.03101033  4.66975966]\n",
            "GSAR:  [0.84885052 5.11172873]\n"
          ]
        },
        {
          "output_type": "stream",
          "name": "stderr",
          "text": [
            "\n",
            " 79%|███████▊  | 181/230 [09:41<02:38,  3.23s/it]\u001b[A\n",
            " 79%|███████▉  | 182/230 [09:43<02:29,  3.12s/it]\u001b[A\n",
            " 80%|███████▉  | 183/230 [09:46<02:17,  2.93s/it]\u001b[A\n",
            " 80%|████████  | 184/230 [09:49<02:13,  2.89s/it]\u001b[A\n",
            " 80%|████████  | 185/230 [09:53<02:26,  3.26s/it]\u001b[A\n",
            " 81%|████████  | 186/230 [09:57<02:34,  3.52s/it]\u001b[A\n",
            " 81%|████████▏ | 187/230 [09:59<02:18,  3.22s/it]\u001b[A\n",
            " 82%|████████▏ | 188/230 [10:03<02:24,  3.43s/it]\u001b[A\n",
            " 82%|████████▏ | 189/230 [10:08<02:29,  3.65s/it]\u001b[A\n",
            " 83%|████████▎ | 190/230 [10:10<02:12,  3.32s/it]\u001b[A\n",
            " 83%|████████▎ | 191/230 [10:13<02:00,  3.08s/it]\u001b[A\n",
            " 83%|████████▎ | 192/230 [10:17<02:10,  3.42s/it]\u001b[A\n",
            " 84%|████████▍ | 193/230 [10:19<01:56,  3.15s/it]\u001b[A\n",
            " 84%|████████▍ | 194/230 [10:22<01:46,  2.96s/it]\u001b[A\n",
            " 85%|████████▍ | 195/230 [10:25<01:42,  2.94s/it]\u001b[A\n",
            " 85%|████████▌ | 196/230 [10:29<01:48,  3.20s/it]\u001b[A\n",
            " 86%|████████▌ | 197/230 [10:31<01:42,  3.11s/it]\u001b[A\n",
            " 86%|████████▌ | 198/230 [10:34<01:33,  2.93s/it]\u001b[A\n",
            " 87%|████████▋ | 199/230 [10:38<01:39,  3.20s/it]\u001b[A\n",
            " 87%|████████▋ | 200/230 [10:42<01:45,  3.50s/it]\u001b[A"
          ]
        },
        {
          "output_type": "stream",
          "name": "stdout",
          "text": [
            "GNSDR:  [-6.32929306  0.78525739]\n",
            "GSIR:  [-2.06630626  4.71751401]\n",
            "GSAR:  [0.82717496 5.10445043]\n"
          ]
        },
        {
          "output_type": "stream",
          "name": "stderr",
          "text": [
            "\n",
            " 87%|████████▋ | 201/230 [10:45<01:32,  3.20s/it]\u001b[A\n",
            " 88%|████████▊ | 202/230 [10:48<01:35,  3.40s/it]\u001b[A\n",
            " 88%|████████▊ | 203/230 [10:52<01:35,  3.55s/it]\u001b[A\n",
            " 89%|████████▊ | 204/230 [10:56<01:35,  3.67s/it]\u001b[A\n",
            " 89%|████████▉ | 205/230 [11:00<01:33,  3.72s/it]\u001b[A\n",
            " 90%|████████▉ | 206/230 [11:03<01:22,  3.44s/it]\u001b[A\n",
            " 90%|█████████ | 207/230 [11:07<01:22,  3.57s/it]\u001b[A\n",
            " 90%|█████████ | 208/230 [11:10<01:13,  3.36s/it]\u001b[A\n",
            " 91%|█████████ | 209/230 [11:14<01:15,  3.61s/it]\u001b[A\n",
            " 91%|█████████▏| 210/230 [11:18<01:15,  3.79s/it]\u001b[A\n",
            " 92%|█████████▏| 211/230 [11:21<01:01,  3.23s/it]\n"
          ]
        }
      ]
    },
    {
      "cell_type": "markdown",
      "source": [
        "#STACKED HOURGLASS 4 - 1500 ITERATIONS"
      ],
      "metadata": {
        "id": "9Sd_dukTZ2bi"
      }
    },
    {
      "cell_type": "code",
      "source": [
        "MAX_ITERATIONS = 1500\n",
        "NUM_STACKS = 4  \n",
        "device = torch.device(\"cuda:0\" if torch.cuda.is_available() else \"cpu\")\n",
        "\n",
        "def train():\n",
        "    net = get_model()\n",
        "    net.to(device)\n",
        "    training_data, training_indices_array = get_train_data()\n",
        "    loss_s = torch.empty(1).to(device)\n",
        "    optimiser = torch.optim.Adam(net.parameters(), lr=0.001)\n",
        "    for i in tqdm.tqdm(range(ITERATIONS)):\n",
        "        # declaring input and output tensors\n",
        "        input = torch.empty(BATCH_SIZE, 1, 512, 64)\n",
        "        output = torch.empty(BATCH_SIZE, 2, 512, 64)\n",
        "        \n",
        "        for j in range(BATCH_SIZE):\n",
        "            indexing, starting_index = training_indices_array[np.random.randint(len(training_indices_array))]  \n",
        "            left_mag, right_mag, mixed_mag = training_data[indexing]\n",
        "            input[j, 0, :, :] = torch.from_numpy(mixed_mag[:512, starting_index:starting_index + 64])\n",
        "            output[j, 0, :, :] = torch.from_numpy(left_mag[:512, starting_index:starting_index + 64])\n",
        "            output[j, 1, :, :] = torch.from_numpy(right_mag[:512, starting_index:starting_index + 64])\n",
        "            input = input.to(device)\n",
        "            output = output.to(device)\n",
        "        optimiser.zero_grad()\n",
        "        predicted = net(input).to(device)\n",
        " \n",
        "        loss = sum(torch.mean(torch.abs(predicted[x].mul(input) - output)) for x in range(1))\n",
        "        if loss>=0:\n",
        "          loss.backward()\n",
        "          loss_s += loss\n",
        "          optimiser.step()\n",
        "        if (i + 1) % TRAIN_SAVE_POINT == 0:\n",
        "            torch.save(net.state_dict(), 'Model4(1)/checkpoint_{}.pt'.format(i + 1))\n",
        "            print( \"loss is {}\".format(loss_s / TRAIN_SAVE_POINT,))\n",
        "            loss_s = 0\n",
        "    \n",
        "def test(model='Model4(1)/checkpoint_1500.pt'):\n",
        "    models = get_model()\n",
        "    models.load_state_dict(torch.load(model),strict=False)\n",
        "    models.to(device)\n",
        "    input = np.empty((BATCH_SIZE, 1, 512, 64), dtype=np.float32)\n",
        "    length = 0.\n",
        "    cnt = 0\n",
        "    gnsdr = 0.\n",
        "    gsir = 0.\n",
        "    gsar = 0.\n",
        "    for left, right, mix, left_magnitude, right_magnitude, mix_magnitude, max_value, mix_phase in data_generator(train_d,train=False):\n",
        "        source_length = mix_magnitude.shape[-1]\n",
        "        start_ind = 0\n",
        "        predicts_left = np.zeros((512, source_length), dtype=np.float32)\n",
        "        predicts_right = np.zeros((512, source_length), dtype=np.float32)\n",
        "        \n",
        "        start = time.time()\n",
        "        while start_ind + 64 < source_length:\n",
        "            \n",
        "            if start_ind and start_ind + (BATCH_SIZE - 1) * 32 + 64 < source_length:\n",
        "                for i in range(BATCH_SIZE):\n",
        "                    input[i, 0, :, :] = mix_magnitude[0:512, start_ind + i * 32:start_ind + i * 32 + 64]\n",
        "                output = models(torch.from_numpy(input).to(device))[-1].data.cpu().numpy() \n",
        "                for i in range(BATCH_SIZE):\n",
        "                    predicts_left[:, start_ind + i * 32 + 16: start_ind + i * 32 + 48] = output[i, 0, :, 16:48]\n",
        "                    predicts_right[:, start_ind + i * 32 + 16: start_ind + i * 32 + 48] = output[i, 1, :, 16:48]\n",
        "                start_ind += BATCH_SIZE * 32\n",
        "            else:\n",
        "                input[0, 0, :, :] = mix_magnitude[0:512, start_ind:start_ind + 64]\n",
        "                output = models(torch.from_numpy(input).to(device))[-1].data.cpu().numpy() \n",
        "                if start_ind == 0:\n",
        "                    predicts_left[:, 0:64] = output[0, 0, :, :]\n",
        "                    predicts_right[:, 0:64] = output[0, 1, :, :]\n",
        "                else:\n",
        "                    predicts_left[:, start_ind + 16: start_ind + 48] = output[0, 0, :, 16:48]\n",
        "                    predicts_right[:, start_ind + 16:start_ind + 48] = output[0, 1, :, 16:48]\n",
        "                start_ind += 32\n",
        "        input[0, 0, :, :] = mix_magnitude[0:512, source_length - 64:source_length]\n",
        "        output = models(torch.from_numpy(input).to(device))[-1].data.cpu().numpy()  \n",
        "        length = source_length - start_ind - 16\n",
        "        predicts_left[:, start_ind + 16:source_length] = output[0, 0, :, 64 - length:64]\n",
        "        predicts_right[:, start_ind + 16:source_length] = output[0, 1, :, 64 - length:64]\n",
        "        \n",
        "        predicts_left =np.nan_to_num(predicts_left)\n",
        "        predicts_right =np.nan_to_num(predicts_right)\n",
        "        predicts_left[np.where(predicts_left < 0)] = 0\n",
        "        predicts_right[np.where(predicts_right < 0)] = 0\n",
        "        predicts_left = predicts_left * mix_magnitude[0:512, :] * max_value\n",
        "        predicts_right = predicts_right * mix_magnitude[0:512, :] * max_value\n",
        "        predicts_left_wav = to_wav(predicts_left, mix_phase[0:512, :])\n",
        "        predicts_right_wav = to_wav(predicts_right, mix_phase[0:512, :])\n",
        "        predicts_left_wav = librosa.resample(predicts_left_wav, 8000, 16000)\n",
        "        predicts_right_wav = librosa.resample(predicts_right_wav, 8000, 16000)\n",
        "        sdr, sir, sar, lens = bss_eval(mix, left, right, predicts_left_wav,\n",
        "                                              predicts_right_wav)\n",
        "        length = length + lens\n",
        "        gnsdr = gnsdr + sdr * lens\n",
        "        gsir = gsir + sir * lens\n",
        "        gsar = gsar + sar * lens\n",
        "        cnt += 1\n",
        "        if cnt % TEST_STEP == 0:\n",
        "            print('GNSDR: ', gnsdr / length)\n",
        "            print('GSIR: ', gsir / length)\n",
        "            print('GSAR: ', gsar / length)\n",
        "            #SAVING THE AUDIO FILES - FOR DEMO PURPOSE       \n",
        "            soundfile.write('/content/drive/MyDrive/test_wavfiles/{}_accompaniments_predict.wav'.format(cnt), predicts_left_wav, 16000, format='wav',subtype='PCM_16')\n",
        "            soundfile.write('/content/drive/MyDrive/test_wavfiles/{}_voice_predict.wav'.format(cnt), predicts_right_wav, 16000, format='wav',subtype='PCM_16')\n",
        "            soundfile.write('/content/drive/MyDrive/test_wavfiles/{}mixed.wav'.format(cnt), mix, 16000, format='wav',subtype='PCM_16')\n",
        "        if cnt == TOTAL_TEST:\n",
        "            break\n"
      ],
      "metadata": {
        "id": "k5GElWTzfbUt"
      },
      "execution_count": null,
      "outputs": []
    },
    {
      "cell_type": "code",
      "source": [
        "train()"
      ],
      "metadata": {
        "colab": {
          "base_uri": "https://localhost:8080/"
        },
        "id": "btkb5ck2NfKU",
        "outputId": "8b84b774-a7a1-4097-a9b4-4f4bd4c9409a"
      },
      "execution_count": null,
      "outputs": [
        {
          "output_type": "stream",
          "name": "stderr",
          "text": [
            "  3%|▎         | 50/1500 [00:19<12:43,  1.90it/s]"
          ]
        },
        {
          "output_type": "stream",
          "name": "stdout",
          "text": [
            "loss of 50 is tensor([0.0393], device='cuda:0', grad_fn=<DivBackward0>)\n"
          ]
        },
        {
          "output_type": "stream",
          "name": "stderr",
          "text": [
            "  7%|▋         | 100/1500 [00:38<15:08,  1.54it/s]"
          ]
        },
        {
          "output_type": "stream",
          "name": "stdout",
          "text": [
            "loss of 100 is 0.02935784123837948\n"
          ]
        },
        {
          "output_type": "stream",
          "name": "stderr",
          "text": [
            " 10%|█         | 150/1500 [00:57<12:16,  1.83it/s]"
          ]
        },
        {
          "output_type": "stream",
          "name": "stdout",
          "text": [
            "loss of 150 is 0.027406053617596626\n"
          ]
        },
        {
          "output_type": "stream",
          "name": "stderr",
          "text": [
            " 13%|█▎        | 200/1500 [01:17<11:51,  1.83it/s]"
          ]
        },
        {
          "output_type": "stream",
          "name": "stdout",
          "text": [
            "loss of 200 is 0.024519337341189384\n"
          ]
        },
        {
          "output_type": "stream",
          "name": "stderr",
          "text": [
            " 17%|█▋        | 250/1500 [01:36<11:32,  1.80it/s]"
          ]
        },
        {
          "output_type": "stream",
          "name": "stdout",
          "text": [
            "loss of 250 is 0.02354545332491398\n"
          ]
        },
        {
          "output_type": "stream",
          "name": "stderr",
          "text": [
            " 20%|██        | 300/1500 [01:56<10:51,  1.84it/s]"
          ]
        },
        {
          "output_type": "stream",
          "name": "stdout",
          "text": [
            "loss of 300 is 0.022520629689097404\n"
          ]
        },
        {
          "output_type": "stream",
          "name": "stderr",
          "text": [
            " 23%|██▎       | 350/1500 [02:16<10:51,  1.76it/s]"
          ]
        },
        {
          "output_type": "stream",
          "name": "stdout",
          "text": [
            "loss of 350 is 0.021910475566983223\n"
          ]
        },
        {
          "output_type": "stream",
          "name": "stderr",
          "text": [
            " 27%|██▋       | 400/1500 [02:36<10:13,  1.79it/s]"
          ]
        },
        {
          "output_type": "stream",
          "name": "stdout",
          "text": [
            "loss of 400 is 0.020458854734897614\n"
          ]
        },
        {
          "output_type": "stream",
          "name": "stderr",
          "text": [
            " 30%|███       | 450/1500 [02:56<09:53,  1.77it/s]"
          ]
        },
        {
          "output_type": "stream",
          "name": "stdout",
          "text": [
            "loss of 450 is 0.02156914211809635\n"
          ]
        },
        {
          "output_type": "stream",
          "name": "stderr",
          "text": [
            " 33%|███▎      | 500/1500 [03:16<09:15,  1.80it/s]"
          ]
        },
        {
          "output_type": "stream",
          "name": "stdout",
          "text": [
            "loss of 500 is 0.01852353662252426\n"
          ]
        },
        {
          "output_type": "stream",
          "name": "stderr",
          "text": [
            " 37%|███▋      | 550/1500 [03:36<09:00,  1.76it/s]"
          ]
        },
        {
          "output_type": "stream",
          "name": "stdout",
          "text": [
            "loss of 550 is 0.019005117937922478\n"
          ]
        },
        {
          "output_type": "stream",
          "name": "stderr",
          "text": [
            " 40%|████      | 600/1500 [03:57<10:06,  1.48it/s]"
          ]
        },
        {
          "output_type": "stream",
          "name": "stdout",
          "text": [
            "loss of 600 is 0.018992483615875244\n"
          ]
        },
        {
          "output_type": "stream",
          "name": "stderr",
          "text": [
            " 43%|████▎     | 650/1500 [04:18<09:08,  1.55it/s]"
          ]
        },
        {
          "output_type": "stream",
          "name": "stdout",
          "text": [
            "loss of 650 is 0.018618136644363403\n"
          ]
        },
        {
          "output_type": "stream",
          "name": "stderr",
          "text": [
            " 47%|████▋     | 700/1500 [04:38<08:15,  1.61it/s]"
          ]
        },
        {
          "output_type": "stream",
          "name": "stdout",
          "text": [
            "loss of 700 is 0.018063334748148918\n"
          ]
        },
        {
          "output_type": "stream",
          "name": "stderr",
          "text": [
            " 50%|█████     | 750/1500 [04:59<07:02,  1.77it/s]"
          ]
        },
        {
          "output_type": "stream",
          "name": "stdout",
          "text": [
            "loss of 750 is 0.01740381121635437\n"
          ]
        },
        {
          "output_type": "stream",
          "name": "stderr",
          "text": [
            " 53%|█████▎    | 800/1500 [05:19<06:35,  1.77it/s]"
          ]
        },
        {
          "output_type": "stream",
          "name": "stdout",
          "text": [
            "loss of 800 is 0.016836626455187798\n"
          ]
        },
        {
          "output_type": "stream",
          "name": "stderr",
          "text": [
            " 57%|█████▋    | 850/1500 [05:39<06:14,  1.73it/s]"
          ]
        },
        {
          "output_type": "stream",
          "name": "stdout",
          "text": [
            "loss of 850 is 0.017995329573750496\n"
          ]
        },
        {
          "output_type": "stream",
          "name": "stderr",
          "text": [
            " 60%|██████    | 900/1500 [06:00<05:38,  1.77it/s]"
          ]
        },
        {
          "output_type": "stream",
          "name": "stdout",
          "text": [
            "loss of 900 is 0.016789371147751808\n"
          ]
        },
        {
          "output_type": "stream",
          "name": "stderr",
          "text": [
            " 63%|██████▎   | 950/1500 [06:20<05:14,  1.75it/s]"
          ]
        },
        {
          "output_type": "stream",
          "name": "stdout",
          "text": [
            "loss of 950 is 0.016724102199077606\n"
          ]
        },
        {
          "output_type": "stream",
          "name": "stderr",
          "text": [
            " 67%|██████▋   | 1000/1500 [06:41<04:43,  1.76it/s]"
          ]
        },
        {
          "output_type": "stream",
          "name": "stdout",
          "text": [
            "loss of 1000 is 0.016961731016635895\n"
          ]
        },
        {
          "output_type": "stream",
          "name": "stderr",
          "text": [
            " 70%|███████   | 1050/1500 [07:01<04:12,  1.78it/s]"
          ]
        },
        {
          "output_type": "stream",
          "name": "stdout",
          "text": [
            "loss of 1050 is 0.01625293493270874\n"
          ]
        },
        {
          "output_type": "stream",
          "name": "stderr",
          "text": [
            " 73%|███████▎  | 1100/1500 [07:21<03:52,  1.72it/s]"
          ]
        },
        {
          "output_type": "stream",
          "name": "stdout",
          "text": [
            "loss of 1100 is 0.01629212498664856\n"
          ]
        },
        {
          "output_type": "stream",
          "name": "stderr",
          "text": [
            " 77%|███████▋  | 1150/1500 [07:42<03:19,  1.75it/s]"
          ]
        },
        {
          "output_type": "stream",
          "name": "stdout",
          "text": [
            "loss of 1150 is 0.01641121320426464\n"
          ]
        },
        {
          "output_type": "stream",
          "name": "stderr",
          "text": [
            " 80%|████████  | 1200/1500 [08:02<02:51,  1.75it/s]"
          ]
        },
        {
          "output_type": "stream",
          "name": "stdout",
          "text": [
            "loss of 1200 is 0.015350810252130032\n"
          ]
        },
        {
          "output_type": "stream",
          "name": "stderr",
          "text": [
            " 83%|████████▎ | 1250/1500 [08:23<02:20,  1.78it/s]"
          ]
        },
        {
          "output_type": "stream",
          "name": "stdout",
          "text": [
            "loss of 1250 is 0.015868697315454483\n"
          ]
        },
        {
          "output_type": "stream",
          "name": "stderr",
          "text": [
            " 87%|████████▋ | 1300/1500 [08:43<01:54,  1.75it/s]"
          ]
        },
        {
          "output_type": "stream",
          "name": "stdout",
          "text": [
            "loss of 1300 is 0.015344792045652866\n"
          ]
        },
        {
          "output_type": "stream",
          "name": "stderr",
          "text": [
            " 90%|█████████ | 1350/1500 [09:04<01:25,  1.75it/s]"
          ]
        },
        {
          "output_type": "stream",
          "name": "stdout",
          "text": [
            "loss of 1350 is 0.014491170644760132\n"
          ]
        },
        {
          "output_type": "stream",
          "name": "stderr",
          "text": [
            " 93%|█████████▎| 1400/1500 [09:24<00:57,  1.74it/s]"
          ]
        },
        {
          "output_type": "stream",
          "name": "stdout",
          "text": [
            "loss of 1400 is 0.014679123647511005\n"
          ]
        },
        {
          "output_type": "stream",
          "name": "stderr",
          "text": [
            " 97%|█████████▋| 1450/1500 [09:44<00:28,  1.72it/s]"
          ]
        },
        {
          "output_type": "stream",
          "name": "stdout",
          "text": [
            "loss of 1450 is 0.014274033717811108\n"
          ]
        },
        {
          "output_type": "stream",
          "name": "stderr",
          "text": [
            "100%|██████████| 1500/1500 [10:05<00:00,  2.48it/s]"
          ]
        },
        {
          "output_type": "stream",
          "name": "stdout",
          "text": [
            "loss of 1500 is 0.014869502745568752\n"
          ]
        },
        {
          "output_type": "stream",
          "name": "stderr",
          "text": [
            "\n"
          ]
        }
      ]
    },
    {
      "cell_type": "code",
      "source": [
        "test()"
      ],
      "metadata": {
        "colab": {
          "base_uri": "https://localhost:8080/"
        },
        "id": "BbapB7A6o1EF",
        "outputId": "13438ada-c148-4567-ae5a-c515c6892203"
      },
      "execution_count": null,
      "outputs": [
        {
          "output_type": "stream",
          "name": "stderr",
          "text": [
            "  9%|▊         | 20/230 [00:44<07:33,  2.16s/it]"
          ]
        },
        {
          "output_type": "stream",
          "name": "stdout",
          "text": [
            "GNSDR:  [7.77796867 8.73091081]\n",
            "GSIR:  [10.84189001 16.81503898]\n",
            "GSAR:  [11.24641794  9.65255729]\n"
          ]
        },
        {
          "output_type": "stream",
          "name": "stderr",
          "text": [
            " 17%|█▋        | 40/230 [01:36<07:47,  2.46s/it]"
          ]
        },
        {
          "output_type": "stream",
          "name": "stdout",
          "text": [
            "GNSDR:  [6.9511877  7.65953761]\n",
            "GSIR:  [10.13924474 15.61238917]\n",
            "GSAR:  [10.30863059  8.63456765]\n"
          ]
        },
        {
          "output_type": "stream",
          "name": "stderr",
          "text": [
            " 26%|██▌       | 60/230 [02:27<07:54,  2.79s/it]"
          ]
        },
        {
          "output_type": "stream",
          "name": "stdout",
          "text": [
            "GNSDR:  [8.57331129 8.98134124]\n",
            "GSIR:  [12.36467046 16.07386327]\n",
            "GSAR:  [11.45988794 10.23684241]\n"
          ]
        },
        {
          "output_type": "stream",
          "name": "stderr",
          "text": [
            " 35%|███▍      | 80/230 [03:17<06:16,  2.51s/it]"
          ]
        },
        {
          "output_type": "stream",
          "name": "stdout",
          "text": [
            "GNSDR:  [9.10301763 9.10276264]\n",
            "GSIR:  [13.37360851 15.30408567]\n",
            "GSAR:  [11.6508171  10.79820057]\n"
          ]
        },
        {
          "output_type": "stream",
          "name": "stderr",
          "text": [
            " 43%|████▎     | 100/230 [04:10<06:09,  2.84s/it]"
          ]
        },
        {
          "output_type": "stream",
          "name": "stdout",
          "text": [
            "GNSDR:  [8.73340349 9.34807895]\n",
            "GSIR:  [12.51486088 15.48056645]\n",
            "GSAR:  [11.96988627 11.02189892]\n"
          ]
        },
        {
          "output_type": "stream",
          "name": "stderr",
          "text": [
            " 52%|█████▏    | 120/230 [04:58<04:22,  2.39s/it]"
          ]
        },
        {
          "output_type": "stream",
          "name": "stdout",
          "text": [
            "GNSDR:  [8.22616844 9.16455648]\n",
            "GSIR:  [11.7016312  15.01600306]\n",
            "GSAR:  [11.84744303 11.01697091]\n"
          ]
        },
        {
          "output_type": "stream",
          "name": "stderr",
          "text": [
            " 61%|██████    | 140/230 [05:55<03:36,  2.40s/it]"
          ]
        },
        {
          "output_type": "stream",
          "name": "stdout",
          "text": [
            "GNSDR:  [7.74474738 8.84694686]\n",
            "GSIR:  [10.9639156  14.55852014]\n",
            "GSAR:  [11.74392168 10.81249395]\n"
          ]
        },
        {
          "output_type": "stream",
          "name": "stderr",
          "text": [
            " 70%|██████▉   | 160/230 [06:46<02:56,  2.52s/it]"
          ]
        },
        {
          "output_type": "stream",
          "name": "stdout",
          "text": [
            "GNSDR:  [7.54977433 8.7127773 ]\n",
            "GSIR:  [10.67447484 14.29822948]\n",
            "GSAR:  [11.6743563  10.75438326]\n"
          ]
        },
        {
          "output_type": "stream",
          "name": "stderr",
          "text": [
            " 78%|███████▊  | 180/230 [07:37<01:53,  2.27s/it]"
          ]
        },
        {
          "output_type": "stream",
          "name": "stdout",
          "text": [
            "GNSDR:  [7.71315877 8.77043738]\n",
            "GSIR:  [10.98418569 14.33073764]\n",
            "GSAR:  [11.62516719 10.81902736]\n"
          ]
        },
        {
          "output_type": "stream",
          "name": "stderr",
          "text": [
            " 87%|████████▋ | 200/230 [08:29<01:08,  2.29s/it]"
          ]
        },
        {
          "output_type": "stream",
          "name": "stdout",
          "text": [
            "GNSDR:  [7.86381275 8.87897298]\n",
            "GSIR:  [11.21312622 14.49078417]\n",
            "GSAR:  [11.62958388 10.86449444]\n"
          ]
        },
        {
          "output_type": "stream",
          "name": "stderr",
          "text": [
            " 96%|█████████▌| 220/230 [09:12<00:20,  2.09s/it]"
          ]
        },
        {
          "output_type": "stream",
          "name": "stdout",
          "text": [
            "GNSDR:  [8.03539315 8.95607098]\n",
            "GSIR:  [11.52434767 14.45645287]\n",
            "GSAR:  [11.66143523 10.98371314]\n"
          ]
        },
        {
          "output_type": "stream",
          "name": "stderr",
          "text": [
            "100%|██████████| 230/230 [09:34<00:00,  2.50s/it]\n"
          ]
        }
      ]
    }
  ]
}